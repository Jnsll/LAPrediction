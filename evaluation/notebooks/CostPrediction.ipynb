{
 "cells": [
  {
   "cell_type": "markdown",
   "id": "91e84624-6673-4785-be9f-b90538f9a7b1",
   "metadata": {},
   "source": [
    "# Cost prediction"
   ]
  },
  {
   "cell_type": "markdown",
   "id": "73eb5705-0ce9-4a4a-b42c-b9f1af8b3b5b",
   "metadata": {},
   "source": [
    "## Description / Goal"
   ]
  },
  {
   "cell_type": "markdown",
   "id": "e5b7366d-d931-4af9-8d27-e3d67a8a90c9",
   "metadata": {},
   "source": [
    "Goal: Create a cost predictive model to predict the execution time of a simulation for an approximation rate thanks to features (here number of cells in the matrix representing the geographical site) regarding that simulation. The end goal is to define the approximation factor to use for that simulation to match a defined execution budget (i.e., execution time).\n"
   ]
  },
  {
   "cell_type": "markdown",
   "id": "3ac22a9c-a3cc-4a79-81a1-6ccd350980d1",
   "metadata": {},
   "source": [
    "## Import libraries"
   ]
  },
  {
   "cell_type": "code",
   "execution_count": 1,
   "id": "36b7d7e5-6316-4c45-903c-2d67e7916f08",
   "metadata": {},
   "outputs": [],
   "source": [
    "import os\n",
    "import pandas as pd\n",
    "import random\n",
    "import numpy as np\n",
    "from sklearn.ensemble import RandomForestRegressor\n",
    "from sklearn.metrics import mean_squared_error\n",
    "from sklearn.metrics import r2_score\n",
    "import statistics\n",
    "from sklearn import metrics\n",
    "random.seed(42)"
   ]
  },
  {
   "cell_type": "markdown",
   "id": "e31aa398-f205-4a3a-9730-5266157f4a68",
   "metadata": {},
   "source": [
    "## Functions to load "
   ]
  },
  {
   "cell_type": "code",
   "execution_count": 2,
   "id": "c7ac280c-dfcc-44f2-b724-007d51da6b8d",
   "metadata": {},
   "outputs": [],
   "source": [
    "def retrieve_list_cases_and_split_data_BVE(data_complete, sites_completes, ratio_train):\n",
    "    #Computing the number of sites that are used for the training\n",
    "    training_nb_cases = round(len(sites_completes) * ratio_train)\n",
    "\n",
    "    # Selecting the sites for the training and testing sets : Random Selection\n",
    "    training_cases = random.sample(sites_completes.tolist(), training_nb_cases)\n",
    "    testing_cases = [x for x in sites_completes.tolist() if x not in training_cases]\n",
    "    \n",
    "    # Retrieving the dataset for the training phase\n",
    "    data_train = extract_data_from_list_of_sites(data_complete, training_cases)\n",
    "    \n",
    "    # Retrieving the dataset for the testing phase\n",
    "    data_test = extract_data_from_list_of_sites(data_complete, testing_cases)\n",
    "\n",
    "    return data_train, data_test, training_cases, testing_cases"
   ]
  },
  {
   "cell_type": "code",
   "execution_count": 3,
   "id": "ec3cfe18-d746-4988-8a80-505d5a84df35",
   "metadata": {},
   "outputs": [],
   "source": [
    "def extract_data_from_list_of_sites(data_complete, cases):\n",
    "    data_cases = pd.DataFrame(columns=data_complete.columns)\n",
    "    for case in cases:\n",
    "        data_case = data_complete.loc[(data_complete['SiteNumber'] == case)]\n",
    "        data_cases = pd.concat([data_cases, data_case], sort=False)\n",
    "        \n",
    "    return data_cases"
   ]
  },
  {
   "cell_type": "code",
   "execution_count": 4,
   "id": "8b639882-7daa-445a-958d-59f53f79ef91",
   "metadata": {},
   "outputs": [],
   "source": [
    "def extract_features_and_outputs_datasets_BVE(data_train, data_test, features):\n",
    "    # load names of all the features contained in the dataset to extract the data we want\n",
    "    global all_features\n",
    "    \n",
    "    # Create in- and output data for the training phase\n",
    "    X_train, y_train = create_input_and_output_datasets_for_time(data_train)\n",
    "    \n",
    "    # Create in- and output data for the testing phase\n",
    "    X_test, y_test = create_input_and_output_datasets_for_time(data_test)\n",
    "    \n",
    "    #Remove all the unnecessary features in the input datasets\n",
    "    features_to_remove = [feature for feature in all_features if feature not in features]\n",
    "    for feature in features_to_remove:\n",
    "        del X_train[str(feature)]\n",
    "        del X_test[str(feature)]\n",
    "\n",
    "    return X_train, y_train, X_test, y_test "
   ]
  },
  {
   "cell_type": "code",
   "execution_count": 5,
   "id": "7057ef09-4cb9-4574-982f-a1a28147d3f7",
   "metadata": {},
   "outputs": [],
   "source": [
    "def create_input_and_output_datasets_for_time(data):\n",
    "    y_data = data.filter([\"SiteNumber\", \"Time\"], axis=1)\n",
    "    X_data = data.drop([\"Chronicle\", \"Validation Metric\", \"Accuracy\", \"Time\"], axis=1)\n",
    "    del y_data[\"SiteNumber\"]\n",
    "    del X_data[\"SiteNumber\"]\n",
    "    return X_data, y_data"
   ]
  },
  {
   "cell_type": "code",
   "execution_count": 6,
   "id": "51b9ea30-e174-4e56-9e08-d591f5c889dd",
   "metadata": {},
   "outputs": [],
   "source": [
    "def train_forest(X_train, y_train):\n",
    "    forest = RandomForestRegressor(\n",
    "        n_estimators=1000, criterion='squared_error', random_state=1, n_jobs=-1, oob_score = True, bootstrap = True\n",
    "    )\n",
    "    forest.fit(X_train, y_train.values.ravel())\n",
    "\n",
    "    return forest"
   ]
  },
  {
   "cell_type": "code",
   "execution_count": 7,
   "id": "5f27bcaf-751c-4ca1-85e3-08e163095497",
   "metadata": {},
   "outputs": [],
   "source": [
    "def compute_standard_metrics(y_test, y_test_pred):\n",
    "\n",
    "    mse = mean_squared_error(y_test.values.ravel(), y_test_pred)\n",
    "    r2 = r2_score(y_test.values.ravel(), y_test_pred)\n",
    "    rmse = metrics.mean_squared_error(y_test.values.ravel(), y_test_pred, squared=False)\n",
    "\n",
    "    return mse, r2, rmse"
   ]
  },
  {
   "cell_type": "code",
   "execution_count": 8,
   "id": "d66e418f-3443-4c44-855d-23b845848fab",
   "metadata": {},
   "outputs": [],
   "source": [
    "def update_and_store_data_with_time_pred(path, data_test, y_test, y_test_pred, testing_cases):\n",
    "    suffixe = \"_\".join(map(str,list(map(int, sorted(testing_cases)))))\n",
    "    data_test = data_test.assign(Timetest=y_test.values.ravel())\n",
    "    data_test = data_test.assign(TimePred=y_test_pred)\n",
    "    \n",
    "    data_test.to_csv(os.path.join(path,\"data/Output_Data/Data_Test_With_Time_pred_Rates_\" + str(nb_rates) + \"_Features_\" + str('_'.join(features)) + \"_\" + str(scale)  + \"_\" + str(suffixe) + \".csv\"), index=False, sep=\";\")\n",
    "    return data_test"
   ]
  },
  {
   "cell_type": "code",
   "execution_count": 9,
   "id": "6808f16c-2070-4947-af74-b06d685c019b",
   "metadata": {},
   "outputs": [],
   "source": [
    "def normalise_dataset_for_time_data(df_data):\n",
    "    df_data[\"Time\"] = (df_data[\"Time\"]-df_data[\"Time\"].min())/(df_data[\"Time\"].max()-df_data[\"Time\"].min())\n",
    "    return df_data"
   ]
  },
  {
   "cell_type": "markdown",
   "id": "3a6a3dd6-b1ff-435d-836d-404b27d761cc",
   "metadata": {
    "tags": []
   },
   "source": [
    "# Evaluation Pipeline"
   ]
  },
  {
   "cell_type": "markdown",
   "id": "7a6dc23f-79f1-4a8b-a23f-975f2ca8daf3",
   "metadata": {},
   "source": [
    "## Parameters"
   ]
  },
  {
   "cell_type": "code",
   "execution_count": 10,
   "id": "6ba8e4d0-9cbd-4b8a-8999-cd954a274a75",
   "metadata": {},
   "outputs": [
    {
     "name": "stdout",
     "output_type": "stream",
     "text": [
      "['Number of Cells']\n"
     ]
    }
   ],
   "source": [
    "path = os.path.abspath(os.path.join(os.path.abspath(\"\"), os.pardir))\n",
    "nb_rates = 30\n",
    "chronicle = 0\n",
    "scale = \"BVE\"\n",
    "ratio_train = 0.8\n",
    "\n",
    "# Different sets of features \n",
    "set_geomorph = [\"Slope\", \"Elevation\", \"LC\", \"CW\", \"Area\"]\n",
    "set_CVHV = [\"Coastal Vulnerability\", \"Hydrological Vulnerability\"]\n",
    "set_saturation= [\"Satured Zone Area\", \"Vulnerability Sum\", \"Vulnerability Rate\"]\n",
    "set_cells = [\"Number of Cells\"]\n",
    "all_features = set_geomorph + set_CVHV + set_saturation + set_cells\n",
    "\n",
    "# We select the type of features we want to use for training our model\n",
    "features = set_cells\n",
    "print(features)"
   ]
  },
  {
   "cell_type": "markdown",
   "id": "004ca009-1f6a-4960-a246-5cc0c389b6be",
   "metadata": {},
   "source": [
    "## Pipeline"
   ]
  },
  {
   "cell_type": "code",
   "execution_count": 11,
   "id": "23f13450-9800-4d6d-9f0c-9f31a290c530",
   "metadata": {},
   "outputs": [],
   "source": [
    "def pipeline_pred_time(path, nb_rates, features, scale, ratio_train):\n",
    "    df_data = pd.read_csv(os.path.join(path, \"data/\", \"Input_Data_Time_ValidMetric_Features_Rates_\" + str(nb_rates) + \"_Features_\" + \"Geomorph_CVHV_Saturation_Cells\" + \"_\" + str(scale) + \"_Comparable.csv\"), sep=\";\")\n",
    "    #Normalisation of the data\n",
    "    df_data = normalise_dataset_for_time_data(df_data)\n",
    "    sites_completes = df_data.SiteNumber.unique()\n",
    "    data_train, data_test, training_cases, testing_cases = retrieve_list_cases_and_split_data_BVE(df_data, sites_completes, ratio_train)\n",
    "    X_train, y_train, X_test, y_test = extract_features_and_outputs_datasets_BVE(data_train, data_test, features)\n",
    "    forest = train_forest(X_train, y_train)\n",
    "    y_test_pred = forest.predict(X_test)\n",
    "    print('scores')\n",
    "    mse, r2, rmse = compute_standard_metrics(y_test, y_test_pred)\n",
    "    #print(\"MSE: \", mse)\n",
    "    print(\"RMSE: \", rmse)\n",
    "    print(\"R2: \", r2)\n",
    "    data_test = update_and_store_data_with_time_pred(path, data_test, y_test, y_test_pred, testing_cases)\n",
    "    return mse, r2, rmse"
   ]
  },
  {
   "cell_type": "markdown",
   "id": "9358cd97-5077-46f6-83ec-bead215f265b",
   "metadata": {},
   "source": [
    "## Replication of elaboration of the cost predictive model : x 25"
   ]
  },
  {
   "cell_type": "code",
   "execution_count": 12,
   "id": "02a28c2d-553b-4a95-99f6-5a274aa598dd",
   "metadata": {},
   "outputs": [
    {
     "name": "stdout",
     "output_type": "stream",
     "text": [
      "Replication: 1\n",
      "scores\n",
      "RMSE:  0.025035210452707273\n",
      "R2:  0.9097126466145888\n",
      "----------\n",
      "Replication: 2\n",
      "scores\n",
      "RMSE:  0.025143655712542203\n",
      "R2:  0.9559294844689207\n",
      "----------\n",
      "Replication: 3\n",
      "scores\n",
      "RMSE:  0.02014063256141532\n",
      "R2:  0.9740434946105913\n",
      "----------\n",
      "Replication: 4\n",
      "scores\n",
      "RMSE:  0.014402663677047223\n",
      "R2:  0.9627420568602884\n",
      "----------\n",
      "Replication: 5\n",
      "scores\n",
      "RMSE:  0.02073010862362068\n",
      "R2:  0.9558199959754341\n",
      "----------\n",
      "Replication: 6\n",
      "scores\n",
      "RMSE:  0.022243149761954246\n",
      "R2:  0.965298823081712\n",
      "----------\n",
      "Replication: 7\n",
      "scores\n",
      "RMSE:  0.019053621902767662\n",
      "R2:  0.9756471291706214\n",
      "----------\n",
      "Replication: 8\n",
      "scores\n",
      "RMSE:  0.017127624470133024\n",
      "R2:  0.9817758395192496\n",
      "----------\n",
      "Replication: 9\n",
      "scores\n",
      "RMSE:  0.031651265378463495\n",
      "R2:  0.8689505406419082\n",
      "----------\n",
      "Replication: 10\n",
      "scores\n",
      "RMSE:  0.022250559433108483\n",
      "R2:  0.9349943536035269\n",
      "----------\n",
      "Replication: 11\n",
      "scores\n",
      "RMSE:  0.015218849779625971\n",
      "R2:  0.980834945999041\n",
      "----------\n",
      "Replication: 12\n",
      "scores\n",
      "RMSE:  0.02271374995798538\n",
      "R2:  0.9492417338419967\n",
      "----------\n",
      "Replication: 13\n",
      "scores\n",
      "RMSE:  0.029598381621666416\n",
      "R2:  0.9468118977548298\n",
      "----------\n",
      "Replication: 14\n",
      "scores\n",
      "RMSE:  0.025392018751708618\n",
      "R2:  0.9612755345156498\n",
      "----------\n",
      "Replication: 15\n",
      "scores\n",
      "RMSE:  0.013795013833187372\n",
      "R2:  0.9584102444900616\n",
      "----------\n",
      "Replication: 16\n",
      "scores\n",
      "RMSE:  0.023533221333594166\n",
      "R2:  0.9370514553107706\n",
      "----------\n",
      "Replication: 17\n",
      "scores\n",
      "RMSE:  0.013628406054608534\n",
      "R2:  0.9786736459552909\n",
      "----------\n",
      "Replication: 18\n",
      "scores\n",
      "RMSE:  0.027123915527929053\n",
      "R2:  0.9522345352188676\n",
      "----------\n",
      "Replication: 19\n",
      "scores\n",
      "RMSE:  0.02628128859243107\n",
      "R2:  0.9643518445151045\n",
      "----------\n",
      "Replication: 20\n",
      "scores\n",
      "RMSE:  0.021397660649641978\n",
      "R2:  0.9427888496017961\n",
      "----------\n",
      "Replication: 21\n",
      "scores\n",
      "RMSE:  0.017516415213087316\n",
      "R2:  0.9737981772330039\n",
      "----------\n",
      "Replication: 22\n",
      "scores\n",
      "RMSE:  0.024736564242179272\n",
      "R2:  0.9644322150593747\n",
      "----------\n",
      "Replication: 23\n",
      "scores\n",
      "RMSE:  0.019201823443233523\n",
      "R2:  0.9485113030370694\n",
      "----------\n",
      "Replication: 24\n",
      "scores\n",
      "RMSE:  0.028763578223608404\n",
      "R2:  0.946389901834433\n",
      "----------\n",
      "Replication: 25\n",
      "scores\n",
      "RMSE:  0.01332414111835968\n",
      "R2:  0.9910698183409015\n",
      "----------\n"
     ]
    }
   ],
   "source": [
    "scores_mse = []\n",
    "scores_rmse = []\n",
    "scores_r2 = []\n",
    "for i in range(25):\n",
    "    print(\"Replication:\", i+1)\n",
    "    mse, r2, rmse = pipeline_pred_time(path, nb_rates, features, scale, ratio_train)\n",
    "    #scores_mse.append(mse)\n",
    "    scores_rmse.append(rmse)\n",
    "    scores_r2.append(r2)\n",
    "    print(\"----------\")"
   ]
  },
  {
   "cell_type": "markdown",
   "id": "179e461a-077f-4c78-bd87-9e3b002cac5e",
   "metadata": {},
   "source": [
    "## Get statistics of scores"
   ]
  },
  {
   "cell_type": "markdown",
   "id": "14147f12-c1cd-47ec-bd11-edeb56601cf5",
   "metadata": {},
   "source": [
    "### RMSE"
   ]
  },
  {
   "cell_type": "code",
   "execution_count": 13,
   "id": "46949118-ee8d-4613-90fd-8aa0d1731d96",
   "metadata": {},
   "outputs": [
    {
     "name": "stdout",
     "output_type": "stream",
     "text": [
      "Mean: 0.021600140812664256 , Median: 0.022243149761954246\n",
      "Min: 0.013324141118359683 , Max: 0.031651265378463495 , Std: 0.0052458414337176185\n"
     ]
    }
   ],
   "source": [
    "print(\"Mean:\", statistics.mean(scores_rmse), \", Median:\", statistics.median(scores_rmse))\n",
    "print(\"Min:\", min(scores_rmse), \", Max:\", max(scores_rmse), \", Std:\", statistics.stdev(scores_rmse))"
   ]
  },
  {
   "cell_type": "markdown",
   "id": "de599b52-5676-4ea0-aac3-85fed9703b86",
   "metadata": {
    "tags": []
   },
   "source": [
    "### R2"
   ]
  },
  {
   "cell_type": "code",
   "execution_count": 14,
   "id": "4ab7565d-0eed-4d6d-ab12-5d4b85cfd64b",
   "metadata": {},
   "outputs": [
    {
     "name": "stdout",
     "output_type": "stream",
     "text": [
      "Mean: 0.9552316186902013 , Median: 0.9584102444900615\n",
      "Min: 0.8689505406419084 , Max: 0.9910698183409015 , Std: 0.025275860641204115\n"
     ]
    }
   ],
   "source": [
    "print(\"Mean:\", statistics.mean(scores_r2), \", Median:\", statistics.median(scores_r2))\n",
    "print(\"Min:\", min(scores_r2), \", Max:\", max(scores_r2), \", Std:\", statistics.stdev(scores_r2))"
   ]
  },
  {
   "cell_type": "markdown",
   "id": "a779464f-335f-4e4b-baf2-2b0c498bdbb2",
   "metadata": {},
   "source": [
    "## Plotting the scores"
   ]
  },
  {
   "cell_type": "code",
   "execution_count": 15,
   "id": "c2bd7083-c635-408d-834b-d55d8d25433e",
   "metadata": {},
   "outputs": [
    {
     "data": {
      "image/png": "[encoded data removed]",
      "text/plain": [
       "<Figure size 1000x700 with 1 Axes>"
      ]
     },
     "metadata": {},
     "output_type": "display_data"
    }
   ],
   "source": [
    "import matplotlib.pyplot as plt\n",
    "\n",
    "fig = plt.figure(figsize =(10, 7))\n",
    " \n",
    "# Creating plot\n",
    "plt.boxplot(scores_r2)\n",
    "plt.xticks([1], [\"\"])\n",
    " \n",
    "# show plot\n",
    "#plt.show()\n",
    "plt.savefig('Scores_r2_25Repetitions.pdf')"
   ]
  }
 ],
 "metadata": {
  "kernelspec": {
   "display_name": "Python 3 (ipykernel)",
   "language": "python",
   "name": "python3"
  },
  "language_info": {
   "codemirror_mode": {
    "name": "ipython",
    "version": 3
   },
   "file_extension": ".py",
   "mimetype": "text/x-python",
   "name": "python",
   "nbconvert_exporter": "python",
   "pygments_lexer": "ipython3",
   "version": "3.9.13"
  }
 },
 "nbformat": 4,
 "nbformat_minor": 5
}
