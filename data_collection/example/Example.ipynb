{
 "cells": [
  {
   "cell_type": "markdown",
   "id": "40549d76",
   "metadata": {},
   "source": [
    "# Example of Running a Simulation with Discretization Upscale"
   ]
  },
  {
   "cell_type": "markdown",
   "id": "333a3aac",
   "metadata": {},
   "source": [
    "## Imports "
   ]
  },
  {
   "cell_type": "markdown",
   "id": "30846b97",
   "metadata": {},
   "source": [
    "\n",
    "Requirements:\n",
    "    - python3\n",
    "    - flopy=3.3.5\n",
    "    - pandas=1.4.2\n",
    "    - matplotlib=3.5.1\n",
    "    - scipy=1.8.0\n",
    "    - gdal=3.4.0\n",
    "    - numpy=1.22.3\n",
    "    - jupyter\n",
    "    - libgfortran5\n",
    "\n",
    "Running it on a Linux distribution.\n"
   ]
  },
  {
   "cell_type": "code",
   "execution_count": null,
   "id": "932e1e6c",
   "metadata": {},
   "outputs": [],
   "source": [
    "import os, sys\n",
    "lib_path = os.path.abspath(os.path.join(os.path.abspath(''), 'modflow', 'custom_utils'))\n",
    "sys.path.append(lib_path)\n",
    "\n",
    "# Custom imports\n",
    "from modflow.custom_utils import InputFileManipulation\n",
    "from modflow import settings_model\n",
    "from modflow import ErrorComput"
   ]
  },
  {
   "cell_type": "markdown",
   "id": "452c0fb2",
   "metadata": {},
   "source": [
    "## Definition of the values of the parameters"
   ]
  },
  {
   "cell_type": "code",
   "execution_count": null,
   "id": "6bcbdbf2",
   "metadata": {},
   "outputs": [],
   "source": [
    "approx=0\n",
    "rate=3652\n",
    "chronicle=12\n",
    "site=2\n",
    "ref=False\n",
    "perm=27.32\n",
    "folder= None\n",
    "steady=False"
   ]
  },
  {
   "cell_type": "markdown",
   "id": "88f1963e",
   "metadata": {},
   "source": [
    "## Creation of the input file (input data for the simulation) \n",
    "for the corresponding parameters (approximation rate, chronicle, type of approximation, etc)"
   ]
  },
  {
   "cell_type": "code",
   "execution_count": null,
   "id": "7e4b85f5",
   "metadata": {},
   "outputs": [],
   "source": [
    "InputFileManipulation.generate_custom_input_file(model_name=None, approx=0, rate=5000, chronicle=12, steady=False)"
   ]
  },
  {
   "cell_type": "markdown",
   "id": "8b7650a4",
   "metadata": {},
   "source": [
    "## Launching the modflow simulation with the corresponding input file\n",
    "Execution time: ~2minutes for approx=0; rate=5000; chronicle=12; site=2"
   ]
  },
  {
   "cell_type": "code",
   "execution_count": null,
   "id": "40337bff",
   "metadata": {},
   "outputs": [],
   "source": [
    "settings_model.setting(permeability=perm, time=0, geology=0, theta=0.1, input_file=None, step=1, ref=ref, chronicle=chronicle, approx=approx, rate=rate, rep=False, steady=False, site=site)"
   ]
  },
  {
   "cell_type": "markdown",
   "id": "54700640",
   "metadata": {},
   "source": [
    "## Computation of the control metric\n",
    "\n"
   ]
  },
  {
   "cell_type": "markdown",
   "id": "a37c614a",
   "metadata": {},
   "source": [
    "### Convert result file of ref simulation into binary file (.npy) to load it faster during computation of control metric"
   ]
  },
  {
   "cell_type": "code",
   "execution_count": null,
   "id": "0827911a",
   "metadata": {},
   "outputs": [],
   "source": [
    "print(\"Conversion of ref Hds file starting...\")\n",
    "ErrorComput.topo_file(site_number=site, chronicle=chronicle, approx=approx, rate=rate, ref=True, folder=folder, steady=steady, permeability=perm)\n",
    "print(\"Conversion of ref Hds file finished.\")"
   ]
  },
  {
   "cell_type": "markdown",
   "id": "bd41a5f9",
   "metadata": {},
   "source": [
    "### Actual Computation\n",
    "BE AWARE: TAKES QUITE SOME TIME TO EXECUTE: May be ~1or2hours"
   ]
  },
  {
   "cell_type": "code",
   "execution_count": null,
   "id": "ca34e8a1",
   "metadata": {},
   "outputs": [],
   "source": [
    "print(\"Computing of the control metric starting...\")\n",
    "#ErrorComput.compute_h_error_by_interpolation(site_number=site, chronicle=chronicle, approx=approx, rate=rate, ref=ref, folder=folder, permeability=perm, steady=False, time_step=1)\n",
    "print(\"Computation of control finished.\")"
   ]
  }
 ],
 "metadata": {
  "kernelspec": {
   "display_name": "Python 3 (ipykernel)",
   "language": "python",
   "name": "python3"
  },
  "language_info": {
   "codemirror_mode": {
    "name": "ipython",
    "version": 3
   },
   "file_extension": ".py",
   "mimetype": "text/x-python",
   "name": "python",
   "nbconvert_exporter": "python",
   "pygments_lexer": "ipython3",
   "version": "3.9.13"
  },
  "vscode": {
   "interpreter": {
    "hash": "e8f3117576f6cc61fdfb420dcc37329d6cf96e6bf83417b878babfc0d0cc5aee"
   }
  }
 },
 "nbformat": 4,
 "nbformat_minor": 5
}
