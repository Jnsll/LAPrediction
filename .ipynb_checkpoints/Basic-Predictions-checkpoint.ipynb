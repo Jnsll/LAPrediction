{
 "cells": [
  {
   "cell_type": "code",
   "execution_count": 93,
   "metadata": {},
   "outputs": [
    {
     "name": "stdout",
     "output_type": "stream",
     "text": [
      "   Approx  Chronicle  Test Site  Minimum H  Maximum H    Mean H  Median H  \\\n",
      "0       0          0         17        0.0   0.327673  0.068059  0.035001   \n",
      "0       0          0         19        0.0   0.327673  0.068059  0.035001   \n",
      "\n",
      "   Standard Dev H  MSE Train  MSE Test  R2 Train   R2 Test  \\\n",
      "0        0.083506   0.000092  0.000515  0.986683  0.927492   \n",
      "0        0.083506   0.000092  0.000515  0.986683  0.927492   \n",
      "\n",
      "   MSE Train Test Site  MSE Test Test Site  R2 Train Test Site  \\\n",
      "0             0.000092            0.001073            0.986683   \n",
      "0             0.000092            0.001073            0.986683   \n",
      "\n",
      "   R2 Test Test Site  \n",
      "0           0.680575  \n",
      "0           0.680575  \n"
     ]
    }
   ],
   "source": [
    "import pandas as pd\n",
    "MYDIR= \"/run/media/jnsll/b0417344-c572-4bf5-ac10-c2021d205749/exps_modflops/results/\" + \"ZLearning/\" \n",
    "\n",
    "sites= [17, 19]\n",
    "approx=0\n",
    "chronicle=0\n",
    "#df = pd.DataFrame(columns=[\"Site\", \"ExecTimeSum\"])\n",
    "frames=[]\n",
    "for test_site in sites:\n",
    "    file = MYDIR + \"Approx\"+ str(approx) + \"/Chronicle\" + str(chronicle) + \"/SiteTest\" + str(test_site) + \"/\" + 'Stats.csv'\n",
    "    dfp = pd.read_csv(file, sep=\";\")\n",
    "    frames.append(dfp)\n",
    "df=pd.concat(frames)\n",
    "print(df)\n",
    "df.to_csv(MYDIR+\"Stats_All.csv\")"
   ]
  },
  {
   "cell_type": "markdown",
   "metadata": {},
   "source": [
    "## Formatting"
   ]
  },
  {
   "cell_type": "code",
   "execution_count": 1,
   "metadata": {},
   "outputs": [],
   "source": [
    "import numpy as np\n",
    "import pandas as pd\n",
    "import math\n",
    "\n",
    "def get_data_with_chronicle_number_and_site_number_as_test(df, approx, chronicle, test_site):\n",
    "    \"\"\"\n",
    "    TODO\n",
    "    \"\"\"\n",
    "\n",
    "    df_chr = df[df[\"Chronicle\"]==chronicle]\n",
    "    df_Chr_Approx = df_chr[df_chr[\"Approx\"]==approx]\n",
    "\n",
    "    del df_Chr_Approx[\"Approx\"]\n",
    "    del df_Chr_Approx[\"Chronicle\"]\n",
    "    del df_Chr_Approx[\"Execution Time\"]\n",
    "    del df_Chr_Approx[\"Number of Lines\"]\n",
    "    df_Chr_Approx_SiteTest = df_Chr_Approx[df_Chr_Approx.Site_number == test_site]\n",
    "    df_Chr_Approx = df_Chr_Approx.drop(df_Chr_Approx[df_Chr_Approx.Site_number == test_site].index)\n",
    "    del df_Chr_Approx[\"Site_number\"]\n",
    "    del df_Chr_Approx_SiteTest[\"Site_number\"]\n",
    "    #print(df_Chr_Approx)\n",
    "    return df_Chr_Approx, df_Chr_Approx_SiteTest"
   ]
  },
  {
   "cell_type": "markdown",
   "metadata": {},
   "source": [
    "# Representation"
   ]
  },
  {
   "cell_type": "code",
   "execution_count": 2,
   "metadata": {},
   "outputs": [],
   "source": [
    "import matplotlib.pyplot as plt\n",
    "import os\n",
    "\n",
    "def get_simple_scatter_plot_variables(df_Chr_Approx, approx, chronicle, test_site):\n",
    "    MYDIR= \"/run/media/jnsll/b0417344-c572-4bf5-ac10-c2021d205749/exps_modflops/results/\" + \"ZLearning/\" + \"Approx\"+ str(approx) + \"/Chronicle\" + str(chronicle) + \"/SiteTest\" + str(test_site)\n",
    "    features = [\"Rate\", \"Satured Zone Area\", \"Vulnerability Sum\", \"Vulnerability Rate\", \"Global Area of site (in cells)\", \"Saturation Rate\"]\n",
    "    colors = [\"black\", \"blue\", \"orange\", \"grey\", \"green\", \"purple\"]\n",
    "    \n",
    "            \n",
    "    CHECK_FOLDER = os.path.isdir(MYDIR)\n",
    "    if not CHECK_FOLDER:\n",
    "        os.makedirs(MYDIR)\n",
    "\n",
    "    for i in range(len(features)):\n",
    "        plt.scatter(df_Chr_Approx[features[i]], df_Chr_Approx['H Error'], color=colors[i])\n",
    "        plt.title('H Error Vs ' + features[i], fontsize=14)\n",
    "        plt.xlabel(features[i], fontsize=14)\n",
    "        plt.ylabel('H Error', fontsize=14)\n",
    "        plt.grid(True)\n",
    "        #plt.show()\n",
    "\n",
    "        plt.savefig(MYDIR + '/simple_scatter_plot_HError_' + features[i] + '.png') #, bbox_inches='tight'\n",
    "        plt.clf()\n",
    "\n"
   ]
  },
  {
   "cell_type": "markdown",
   "metadata": {},
   "source": [
    "## Stats of data"
   ]
  },
  {
   "cell_type": "code",
   "execution_count": 3,
   "metadata": {},
   "outputs": [],
   "source": [
    "import csv\n",
    "\n",
    "def get_stats_from_dataset(df_Chr_Approx, approx, chronicle, test_site):\n",
    "    y = df_Chr_Approx[\"H Error\"]   #df_Chr0_Approx0.filter([\"H Error\"], axis=1)\n",
    "    X = df_Chr_Approx.drop('H Error', axis=1)\n",
    "    #new = old.filter(['A','B','D'], axis=1)\n",
    "    print(\"Dataset has {} data points with {} variables each.\".format(*df_Chr_Approx.shape))\n",
    "    \n",
    "    # Minimum value of the data\n",
    "    minimum_H = np.amin(y)\n",
    "    # Maximum value of the data\n",
    "    maximum_H = np.amax(y)\n",
    "\n",
    "    # Mean value of the data\n",
    "    mean_H = np.mean(y)\n",
    "\n",
    "    # Median value of the data\n",
    "    median_H = np.median(y)\n",
    "\n",
    "    # Standard deviation of values of the data\n",
    "    std_H = np.std(y)\n",
    "\n",
    "    # Show the calculated statistics\n",
    "    print(\"Statistics for dataset:\\n\")\n",
    "    print(\"Minimum H: {}\".format(minimum_H)) \n",
    "    print(\"Maximum H: {}\".format(maximum_H))\n",
    "    print(\"Mean H: {}\".format(mean_H))\n",
    "    print(\"Median H {}\".format(median_H))\n",
    "    print(\"Standard deviation of H: {}\".format(std_H))\n",
    "    \n",
    "   # MYDIR= \"/run/media/jnsll/b0417344-c572-4bf5-ac10-c2021d205749/exps_modflops/results/\" + \"ZLearning/\" + \"Approx\"+ str(approx) + \"/Chronicle\" + str(chronicle) + \"/SiteTest\" + str(test_site)\n",
    "   # with open(MYDIR + \"/\" + 'Stats.csv', 'w') as f:\n",
    "   #     writer = csv.writer(f, delimiter=';')\n",
    "   #     writer.writerow(['Approx', 'Chronicle','Test Site', 'Minimum H', 'Maximum H', 'Mean H', \"Median H\", 'Standard Dev H'])\n",
    "   #     writer.writerow([approx, chronicle, test_site, minimum_H, maximum_H, mean_H, median_H, std_H])\n",
    "    \n",
    "    return X,y,minimum_H, maximum_H, mean_H, median_H, std_H"
   ]
  },
  {
   "cell_type": "markdown",
   "metadata": {},
   "source": [
    "## Exploratory Data Analysis"
   ]
  },
  {
   "cell_type": "code",
   "execution_count": 4,
   "metadata": {},
   "outputs": [],
   "source": [
    "import matplotlib.pyplot as plt\n",
    "import seaborn as sns\n",
    "#%matplotlib inline\n",
    "# Calculate and show pairplot\n",
    "def get_pairplots(df_Chr_Approx, approx, chronicle, test_site):\n",
    "    MYDIR= \"/run/media/jnsll/b0417344-c572-4bf5-ac10-c2021d205749/exps_modflops/results/\" + \"ZLearning/\" + \"Approx\"+ str(approx) + \"/Chronicle\" + str(chronicle) + \"/SiteTest\" + str(test_site)\n",
    "\n",
    "    sns.pairplot(df_Chr_Approx, height=2.5)\n",
    "    #plt.show()\n",
    "    plt.savefig(MYDIR + '/Pairplots_HError.png')\n",
    "    plt.clf()\n",
    "    "
   ]
  },
  {
   "cell_type": "markdown",
   "metadata": {},
   "source": [
    "## Correlation Matrix"
   ]
  },
  {
   "cell_type": "code",
   "execution_count": 13,
   "metadata": {},
   "outputs": [],
   "source": [
    "import seaborn as sns\n",
    "def get_correlation_matrix(df_Chr_Approx, approx, chronicle, test_site):\n",
    "    MYDIR= \"/run/media/jnsll/b0417344-c572-4bf5-ac10-c2021d205749/exps_modflops/results/\" + \"ZLearning/\" + \"Approx\"+ str(approx) + \"/Chronicle\" + str(chronicle) + \"/SiteTest\" + str(test_site)\n",
    "\n",
    "# Calculate and show correlation matrix\n",
    "    cm = np.corrcoef(df_Chr_Approx.values.T)\n",
    "    sns.set(font_scale=1.5)\n",
    "    hm = sns.heatmap(cm,\n",
    "                    cbar=True,\n",
    "                    annot=True,\n",
    "                    square=True,\n",
    "                    fmt='.2f',\n",
    "                    annot_kws={'size': 15},\n",
    "                    yticklabels=list(df_Chr_Approx),\n",
    "                    xticklabels=list(df_Chr_Approx))\n",
    "    plt.savefig(MYDIR + '/CorrelationMatrix_HError.png')\n",
    "    plt.clf()"
   ]
  },
  {
   "cell_type": "markdown",
   "metadata": {},
   "source": [
    "## Model : Random Forest "
   ]
  },
  {
   "cell_type": "code",
   "execution_count": 6,
   "metadata": {},
   "outputs": [],
   "source": [
    "from sklearn.model_selection import train_test_split\n",
    "from sklearn.ensemble import RandomForestRegressor\n",
    "\n",
    "def get_randomForest_model(X, y):\n",
    "    X_train, X_test, y_train, y_test = train_test_split(X, y, test_size=0.4, random_state=1)\n",
    "    # Success\n",
    "    print(\"Training and testing split was successful.\")\n",
    " \n",
    "\n",
    "\n",
    "    forest = RandomForestRegressor(n_estimators=1000, criterion='mse',random_state=1,n_jobs=-1)\n",
    "\n",
    "    forest.fit(X_train, y_train)\n",
    "    y_train_pred = forest.predict(X_train)\n",
    "    y_test_pred = forest.predict(X_test)\n",
    "    \n",
    "    mse_train, mse_test, r2_train, r2_test=get_scores(y_train, y_test, y_train_pred, y_test_pred)\n",
    "    \n",
    "    \n",
    "    return forest, mse_train, mse_test, r2_train, r2_test, X_train, X_test, y_train, y_test, y_train_pred"
   ]
  },
  {
   "cell_type": "code",
   "execution_count": 7,
   "metadata": {},
   "outputs": [],
   "source": [
    "from sklearn.metrics import mean_squared_error\n",
    "from sklearn.metrics import r2_score\n",
    "\n",
    "def get_scores(y_train, y_test, y_train_pred, y_test_pred):\n",
    "    mse_train=mean_squared_error(y_train, y_train_pred)\n",
    "    mse_test=mean_squared_error(y_test, y_test_pred)\n",
    "    r2_train=r2_score(y_train, y_train_pred)\n",
    "    r2_test=r2_score(y_test, y_test_pred)\n",
    "    print('MSE train: %.3f, test: %.3f' % (mean_squared_error(y_train, y_train_pred), mean_squared_error(y_test, y_test_pred)))\n",
    "    print('R^2 train: %.3f, test: %.3f' % (r2_score(y_train, y_train_pred),r2_score(y_test, y_test_pred)))\n",
    "    return mse_train, mse_test, r2_train, r2_test\n",
    "    "
   ]
  },
  {
   "cell_type": "markdown",
   "metadata": {},
   "source": [
    "## Try with the test site"
   ]
  },
  {
   "cell_type": "code",
   "execution_count": 8,
   "metadata": {},
   "outputs": [],
   "source": [
    "#print(df_Chr0_Approx0_Site17)\n",
    "def get_testSite_datasets(df_Chr_Approx_SiteTest):\n",
    "    y_testSite = df_Chr_Approx_SiteTest[\"H Error\"]   #df_Chr0_Approx0.filter([\"H Error\"], axis=1)\n",
    "\n",
    "    X_testSite = df_Chr_Approx_SiteTest.drop('H Error', axis=1)\n",
    "    \n",
    "    return X_testSite,y_testSite\n",
    "#print(X_testSite)"
   ]
  },
  {
   "cell_type": "code",
   "execution_count": 9,
   "metadata": {},
   "outputs": [],
   "source": [
    "def get_scores_testSite(forest, X_testSite, y_testSite, y_train, y_train_pred):\n",
    "    y_testSite_test = forest.predict(X_testSite)\n",
    "    mse_testSite_train=mean_squared_error(y_train, y_train_pred)\n",
    "    mse_testSite_test=mean_squared_error(y_testSite, y_testSite_test)\n",
    "    r2_testSite_train=r2_score(y_train, y_train_pred)\n",
    "    r2_testSite_test=r2_score(y_testSite, y_testSite_test)\n",
    "    print('MSE train: %.3f, test: %.3f' % (mean_squared_error(y_train, y_train_pred), mean_squared_error(y_testSite, y_testSite_test)))\n",
    "    print('R^2 train: %.3f, test: %.3f' % (r2_score(y_train, y_train_pred),r2_score(y_testSite, y_testSite_test)))\n",
    "    return mse_testSite_train,mse_testSite_test,r2_testSite_train,r2_testSite_test"
   ]
  },
  {
   "cell_type": "code",
   "execution_count": null,
   "metadata": {},
   "outputs": [],
   "source": [
    "## Calls to "
   ]
  },
  {
   "cell_type": "code",
   "execution_count": 3,
   "metadata": {},
   "outputs": [],
   "source": [
    "import pandas as pd \n",
    "# global var\n",
    "#folder = \"/run/media/jnsll/b0417344-c572-4bf5-ac10-c2021d205749/exps_modflops/results\"\n",
    "\n",
    "# Using pandas to import the dataset\n",
    "df = pd.read_csv(\"Exps_H_Indicator_All_Sites.csv\")\n",
    "\n",
    "\n",
    "def all_random_forest(approx, chronicle, test_site):\n",
    "    MYDIR= \"/run/media/jnsll/b0417344-c572-4bf5-ac10-c2021d205749/exps_modflops/results/\" + \"ZLearning/\" + \"Approx\"+ str(approx) + \"/Chronicle\" + str(chronicle) + \"/SiteTest\" + str(test_site)\n",
    "\n",
    "    df_Chr_Approx, df_Chr_Approx_SiteTest = get_data_with_chronicle_number_and_site_number_as_test(df, approx, chronicle=0, test_site=17)\n",
    "    get_simple_scatter_plot_variables(df_Chr_Approx, approx, chronicle, test_site)\n",
    "    X, y,minimum_H, maximum_H, mean_H, median_H, std_H = get_stats_from_dataset(df_Chr_Approx, approx, chronicle, test_site)\n",
    "    get_pairplots(df_Chr_Approx, approx, chronicle, test_site)\n",
    "    get_correlation_matrix(df_Chr_Approx, approx, chronicle, test_site)\n",
    "\n",
    "    forest, mse_train, mse_test, r2_train, r2_test,X_train, X_test, y_train, y_test, y_train_pred=get_randomForest_model(X, y)\n",
    "\n",
    "    X_testSite, y_testSite=get_testSite_datasets(df_Chr_Approx_SiteTest)\n",
    "    mse_testSite_train,mse_testSite_test,r2_testSite_train,r2_testSite_test=get_scores_testSite(forest, X_testSite, y_testSite, y_train, y_train_pred)\n",
    "\n",
    "    with open(MYDIR + \"/\" + 'Stats.csv', 'w') as f:\n",
    "        writer = csv.writer(f, delimiter=';')\n",
    "        writer.writerow(['Approx', 'Chronicle','Test Site', 'Minimum H', 'Maximum H', 'Mean H', \"Median H\", 'Standard Dev H', 'MSE Train', 'MSE Test', 'R2 Train', 'R2 Test', 'MSE Train Test Site', 'MSE Test Test Site', 'R2 Train Test Site', 'R2 Test Test Site' ])\n",
    "        writer.writerow([approx, chronicle, test_site, minimum_H, maximum_H, mean_H, median_H, std_H, mse_train, mse_test, r2_train, r2_test, mse_testSite_train,mse_testSite_test,r2_testSite_train,r2_testSite_test])\n",
    "        "
   ]
  },
  {
   "cell_type": "code",
   "execution_count": null,
   "metadata": {},
   "outputs": [],
   "source": [
    "\n",
    "\n"
   ]
  },
  {
   "cell_type": "code",
   "execution_count": null,
   "metadata": {},
   "outputs": [],
   "source": []
  },
  {
   "cell_type": "code",
   "execution_count": null,
   "metadata": {},
   "outputs": [],
   "source": []
  },
  {
   "cell_type": "code",
   "execution_count": null,
   "metadata": {},
   "outputs": [],
   "source": []
  },
  {
   "cell_type": "markdown",
   "metadata": {},
   "source": [
    "## Model : Decision Tree"
   ]
  },
  {
   "cell_type": "code",
   "execution_count": 12,
   "metadata": {},
   "outputs": [
    {
     "name": "stdout",
     "output_type": "stream",
     "text": [
      "Training and testing split was successful.\n"
     ]
    }
   ],
   "source": [
    "from sklearn.model_selection import train_test_split\n",
    "\n",
    "\n",
    "X_train_dt, X_test_dt, y_train_dt, y_test_dt = train_test_split(X, y, test_size=0.3, random_state=1)\n",
    "# Success\n",
    "print(\"Training and testing split was successful.\")"
   ]
  },
  {
   "cell_type": "code",
   "execution_count": 13,
   "metadata": {},
   "outputs": [
    {
     "name": "stderr",
     "output_type": "stream",
     "text": [
      "/home/jnsll/.local/lib/python3.8/site-packages/sklearn/metrics/_regression.py:582: UndefinedMetricWarning: R^2 score is not well-defined with less than two samples.\n",
      "  warnings.warn(msg, UndefinedMetricWarning)\n",
      "/home/jnsll/.local/lib/python3.8/site-packages/sklearn/metrics/_regression.py:582: UndefinedMetricWarning: R^2 score is not well-defined with less than two samples.\n",
      "  warnings.warn(msg, UndefinedMetricWarning)\n",
      "/home/jnsll/.local/lib/python3.8/site-packages/sklearn/metrics/_regression.py:582: UndefinedMetricWarning: R^2 score is not well-defined with less than two samples.\n",
      "  warnings.warn(msg, UndefinedMetricWarning)\n",
      "/home/jnsll/.local/lib/python3.8/site-packages/sklearn/metrics/_regression.py:582: UndefinedMetricWarning: R^2 score is not well-defined with less than two samples.\n",
      "  warnings.warn(msg, UndefinedMetricWarning)\n",
      "/home/jnsll/.local/lib/python3.8/site-packages/sklearn/metrics/_regression.py:582: UndefinedMetricWarning: R^2 score is not well-defined with less than two samples.\n",
      "  warnings.warn(msg, UndefinedMetricWarning)\n",
      "/home/jnsll/.local/lib/python3.8/site-packages/sklearn/metrics/_regression.py:582: UndefinedMetricWarning: R^2 score is not well-defined with less than two samples.\n",
      "  warnings.warn(msg, UndefinedMetricWarning)\n",
      "/home/jnsll/.local/lib/python3.8/site-packages/sklearn/metrics/_regression.py:582: UndefinedMetricWarning: R^2 score is not well-defined with less than two samples.\n",
      "  warnings.warn(msg, UndefinedMetricWarning)\n",
      "/home/jnsll/.local/lib/python3.8/site-packages/sklearn/metrics/_regression.py:582: UndefinedMetricWarning: R^2 score is not well-defined with less than two samples.\n",
      "  warnings.warn(msg, UndefinedMetricWarning)\n",
      "/home/jnsll/.local/lib/python3.8/site-packages/sklearn/metrics/_regression.py:582: UndefinedMetricWarning: R^2 score is not well-defined with less than two samples.\n",
      "  warnings.warn(msg, UndefinedMetricWarning)\n",
      "/home/jnsll/.local/lib/python3.8/site-packages/sklearn/metrics/_regression.py:582: UndefinedMetricWarning: R^2 score is not well-defined with less than two samples.\n",
      "  warnings.warn(msg, UndefinedMetricWarning)\n",
      "/home/jnsll/.local/lib/python3.8/site-packages/sklearn/metrics/_regression.py:582: UndefinedMetricWarning: R^2 score is not well-defined with less than two samples.\n",
      "  warnings.warn(msg, UndefinedMetricWarning)\n",
      "/home/jnsll/.local/lib/python3.8/site-packages/sklearn/metrics/_regression.py:582: UndefinedMetricWarning: R^2 score is not well-defined with less than two samples.\n",
      "  warnings.warn(msg, UndefinedMetricWarning)\n",
      "/home/jnsll/.local/lib/python3.8/site-packages/sklearn/metrics/_regression.py:582: UndefinedMetricWarning: R^2 score is not well-defined with less than two samples.\n",
      "  warnings.warn(msg, UndefinedMetricWarning)\n",
      "/home/jnsll/.local/lib/python3.8/site-packages/sklearn/metrics/_regression.py:582: UndefinedMetricWarning: R^2 score is not well-defined with less than two samples.\n",
      "  warnings.warn(msg, UndefinedMetricWarning)\n",
      "/home/jnsll/.local/lib/python3.8/site-packages/sklearn/metrics/_regression.py:582: UndefinedMetricWarning: R^2 score is not well-defined with less than two samples.\n",
      "  warnings.warn(msg, UndefinedMetricWarning)\n",
      "/home/jnsll/.local/lib/python3.8/site-packages/sklearn/metrics/_regression.py:582: UndefinedMetricWarning: R^2 score is not well-defined with less than two samples.\n",
      "  warnings.warn(msg, UndefinedMetricWarning)\n",
      "/home/jnsll/.local/lib/python3.8/site-packages/sklearn/metrics/_regression.py:582: UndefinedMetricWarning: R^2 score is not well-defined with less than two samples.\n",
      "  warnings.warn(msg, UndefinedMetricWarning)\n",
      "/home/jnsll/.local/lib/python3.8/site-packages/sklearn/metrics/_regression.py:582: UndefinedMetricWarning: R^2 score is not well-defined with less than two samples.\n",
      "  warnings.warn(msg, UndefinedMetricWarning)\n",
      "/home/jnsll/.local/lib/python3.8/site-packages/sklearn/metrics/_regression.py:582: UndefinedMetricWarning: R^2 score is not well-defined with less than two samples.\n",
      "  warnings.warn(msg, UndefinedMetricWarning)\n",
      "/home/jnsll/.local/lib/python3.8/site-packages/sklearn/metrics/_regression.py:582: UndefinedMetricWarning: R^2 score is not well-defined with less than two samples.\n",
      "  warnings.warn(msg, UndefinedMetricWarning)\n",
      "/home/jnsll/.local/lib/python3.8/site-packages/sklearn/metrics/_regression.py:582: UndefinedMetricWarning: R^2 score is not well-defined with less than two samples.\n",
      "  warnings.warn(msg, UndefinedMetricWarning)\n",
      "/home/jnsll/.local/lib/python3.8/site-packages/sklearn/metrics/_regression.py:582: UndefinedMetricWarning: R^2 score is not well-defined with less than two samples.\n",
      "  warnings.warn(msg, UndefinedMetricWarning)\n",
      "/home/jnsll/.local/lib/python3.8/site-packages/sklearn/metrics/_regression.py:582: UndefinedMetricWarning: R^2 score is not well-defined with less than two samples.\n",
      "  warnings.warn(msg, UndefinedMetricWarning)\n",
      "/home/jnsll/.local/lib/python3.8/site-packages/sklearn/metrics/_regression.py:582: UndefinedMetricWarning: R^2 score is not well-defined with less than two samples.\n",
      "  warnings.warn(msg, UndefinedMetricWarning)\n",
      "/home/jnsll/.local/lib/python3.8/site-packages/sklearn/metrics/_regression.py:582: UndefinedMetricWarning: R^2 score is not well-defined with less than two samples.\n",
      "  warnings.warn(msg, UndefinedMetricWarning)\n",
      "/home/jnsll/.local/lib/python3.8/site-packages/sklearn/metrics/_regression.py:582: UndefinedMetricWarning: R^2 score is not well-defined with less than two samples.\n",
      "  warnings.warn(msg, UndefinedMetricWarning)\n",
      "/home/jnsll/.local/lib/python3.8/site-packages/sklearn/metrics/_regression.py:582: UndefinedMetricWarning: R^2 score is not well-defined with less than two samples.\n",
      "  warnings.warn(msg, UndefinedMetricWarning)\n",
      "/home/jnsll/.local/lib/python3.8/site-packages/sklearn/metrics/_regression.py:582: UndefinedMetricWarning: R^2 score is not well-defined with less than two samples.\n",
      "  warnings.warn(msg, UndefinedMetricWarning)\n",
      "/home/jnsll/.local/lib/python3.8/site-packages/sklearn/metrics/_regression.py:582: UndefinedMetricWarning: R^2 score is not well-defined with less than two samples.\n",
      "  warnings.warn(msg, UndefinedMetricWarning)\n",
      "/home/jnsll/.local/lib/python3.8/site-packages/sklearn/metrics/_regression.py:582: UndefinedMetricWarning: R^2 score is not well-defined with less than two samples.\n",
      "  warnings.warn(msg, UndefinedMetricWarning)\n",
      "/home/jnsll/.local/lib/python3.8/site-packages/sklearn/metrics/_regression.py:582: UndefinedMetricWarning: R^2 score is not well-defined with less than two samples.\n",
      "  warnings.warn(msg, UndefinedMetricWarning)\n",
      "/home/jnsll/.local/lib/python3.8/site-packages/sklearn/metrics/_regression.py:582: UndefinedMetricWarning: R^2 score is not well-defined with less than two samples.\n",
      "  warnings.warn(msg, UndefinedMetricWarning)\n",
      "/home/jnsll/.local/lib/python3.8/site-packages/sklearn/metrics/_regression.py:582: UndefinedMetricWarning: R^2 score is not well-defined with less than two samples.\n",
      "  warnings.warn(msg, UndefinedMetricWarning)\n",
      "/home/jnsll/.local/lib/python3.8/site-packages/sklearn/metrics/_regression.py:582: UndefinedMetricWarning: R^2 score is not well-defined with less than two samples.\n",
      "  warnings.warn(msg, UndefinedMetricWarning)\n",
      "/home/jnsll/.local/lib/python3.8/site-packages/sklearn/metrics/_regression.py:582: UndefinedMetricWarning: R^2 score is not well-defined with less than two samples.\n",
      "  warnings.warn(msg, UndefinedMetricWarning)\n",
      "/home/jnsll/.local/lib/python3.8/site-packages/sklearn/metrics/_regression.py:582: UndefinedMetricWarning: R^2 score is not well-defined with less than two samples.\n",
      "  warnings.warn(msg, UndefinedMetricWarning)\n",
      "/home/jnsll/.local/lib/python3.8/site-packages/sklearn/metrics/_regression.py:582: UndefinedMetricWarning: R^2 score is not well-defined with less than two samples.\n",
      "  warnings.warn(msg, UndefinedMetricWarning)\n",
      "/home/jnsll/.local/lib/python3.8/site-packages/sklearn/metrics/_regression.py:582: UndefinedMetricWarning: R^2 score is not well-defined with less than two samples.\n",
      "  warnings.warn(msg, UndefinedMetricWarning)\n",
      "/home/jnsll/.local/lib/python3.8/site-packages/sklearn/metrics/_regression.py:582: UndefinedMetricWarning: R^2 score is not well-defined with less than two samples.\n",
      "  warnings.warn(msg, UndefinedMetricWarning)\n",
      "/home/jnsll/.local/lib/python3.8/site-packages/sklearn/metrics/_regression.py:582: UndefinedMetricWarning: R^2 score is not well-defined with less than two samples.\n",
      "  warnings.warn(msg, UndefinedMetricWarning)\n"
     ]
    },
    {
     "name": "stderr",
     "output_type": "stream",
     "text": [
      "/DATA/These/Projects/FlowNotes/Learning/visuals.py:68: UserWarning: Matplotlib is currently using module://ipykernel.pylab.backend_inline, which is a non-GUI backend, so cannot show the figure.\n",
      "  fig.show()\n"
     ]
    },
    {
     "data": {
      "image/png": "[encoded data removed]",
      "text/plain": [
       "<Figure size 720x504 with 4 Axes>"
      ]
     },
     "metadata": {
      "needs_background": "light"
     },
     "output_type": "display_data"
    }
   ],
   "source": [
    "import visuals as vs\n",
    "# Produce learning curves for varying training set sizes and maximum depths\n",
    "%matplotlib inline\n",
    "vs.ModelLearning(X, y)"
   ]
  },
  {
   "cell_type": "markdown",
   "metadata": {},
   "source": [
    "## Complexity Curves"
   ]
  },
  {
   "cell_type": "code",
   "execution_count": 14,
   "metadata": {},
   "outputs": [
    {
     "data": {
      "image/png": "[encoded data removed]",
      "text/plain": [
       "<Figure size 504x360 with 1 Axes>"
      ]
     },
     "metadata": {
      "needs_background": "light"
     },
     "output_type": "display_data"
    }
   ],
   "source": [
    "# Produce complexity curve for varying training set sizes and maximum depths\n",
    "vs.ModelComplexity(X_train, y_train)"
   ]
  },
  {
   "cell_type": "code",
   "execution_count": 17,
   "metadata": {},
   "outputs": [],
   "source": [
    "# Import 'make_scorer', 'DecisionTreeRegressor', and 'GridSearchCV'\n",
    "from sklearn.tree import DecisionTreeRegressor\n",
    "from sklearn.metrics import make_scorer\n",
    "from sklearn.model_selection import GridSearchCV\n",
    "from sklearn.model_selection import ShuffleSplit\n",
    "\n",
    "# Import 'r2_score'\n",
    "\n",
    "from sklearn.metrics import r2_score\n",
    "\n",
    "def performance_metric(y_true, y_predict):\n",
    "    \"\"\" Calculates and returns the performance score between \n",
    "        true (y_true) and predicted (y_predict) values based on the metric chosen. \"\"\"\n",
    "    \n",
    "    score = r2_score(y_true, y_predict)\n",
    "    \n",
    "    # Return the score\n",
    "    return score\n",
    "\n",
    "\n",
    "def fit_model(X, y):\n",
    "    \"\"\" Performs grid search over the 'max_depth' parameter for a \n",
    "        decision tree regressor trained on the input data [X, y]. \"\"\"\n",
    "    \n",
    "    # Create cross-validation sets from the training data\n",
    "    cv_sets = ShuffleSplit(n_splits = 10, test_size = 0.20, random_state = 0)\n",
    "\n",
    "    # Create a decision tree regressor object\n",
    "    regressor = DecisionTreeRegressor()\n",
    "\n",
    "    # Create a dictionary for the parameter 'max_depth' with a range from 1 to 10\n",
    "    params = {'max_depth':[1,2,3,4,5,6,7,8,9,10]}\n",
    "\n",
    "    # Transform 'performance_metric' into a scoring function using 'make_scorer' \n",
    "    scoring_fnc = make_scorer(performance_metric)\n",
    "\n",
    "    # Create the grid search cv object --> GridSearchCV()\n",
    "    grid = GridSearchCV(estimator=regressor, param_grid=params, scoring=scoring_fnc, cv=cv_sets)\n",
    "\n",
    "    # Fit the grid search object to the data to compute the optimal model\n",
    "    grid = grid.fit(X, y)\n",
    "\n",
    "    # Return the optimal model after fitting the data\n",
    "    return grid.best_estimator_"
   ]
  },
  {
   "cell_type": "code",
   "execution_count": 18,
   "metadata": {},
   "outputs": [
    {
     "name": "stdout",
     "output_type": "stream",
     "text": [
      "Parameter 'max_depth' is 10 for the optimal model.\n"
     ]
    }
   ],
   "source": [
    "# Fit the training data to the model using grid search\n",
    "reg = fit_model(X_train_dt, y_train_dt)\n",
    "\n",
    "# Produce the value for 'max_depth'\n",
    "print(\"Parameter 'max_depth' is {} for the optimal model.\".format(reg.get_params()['max_depth']))"
   ]
  },
  {
   "cell_type": "code",
   "execution_count": 19,
   "metadata": {},
   "outputs": [],
   "source": [
    "y_train_pred_dt = reg.predict(X_train_dt)\n",
    "y_test_pred_dt = reg.predict(X_test_dt)"
   ]
  },
  {
   "cell_type": "code",
   "execution_count": 20,
   "metadata": {},
   "outputs": [
    {
     "name": "stdout",
     "output_type": "stream",
     "text": [
      "MSE train: 0.000, test: 0.004\n",
      "R^2 train: 1.000, test: 0.208\n"
     ]
    }
   ],
   "source": [
    "from sklearn.metrics import mean_squared_error\n",
    "from sklearn.metrics import r2_score\n",
    "print('MSE train: %.3f, test: %.3f' % (mean_squared_error(y_train_dt, y_train_pred_dt), mean_squared_error(y_test_dt, y_test_pred_dt)))\n",
    "print('R^2 train: %.3f, test: %.3f' % (r2_score(y_train_dt, y_train_pred_dt),r2_score(y_test_dt, y_test_pred_dt)))"
   ]
  },
  {
   "cell_type": "code",
   "execution_count": 21,
   "metadata": {},
   "outputs": [
    {
     "name": "stdout",
     "output_type": "stream",
     "text": [
      "MSE train: 0.000, test: 0.002\n",
      "R^2 train: 1.000, test: 0.327\n"
     ]
    }
   ],
   "source": [
    "y_17_test_dt = reg.predict(X_17)\n",
    "print('MSE train: %.3f, test: %.3f' % (mean_squared_error(y_train_dt, y_train_pred_dt), mean_squared_error(y_17, y_17_test_dt)))\n",
    "print('R^2 train: %.3f, test: %.3f' % (r2_score(y_train_dt, y_train_pred_dt),r2_score(y_17, y_17_test_dt)))"
   ]
  },
  {
   "cell_type": "code",
   "execution_count": null,
   "metadata": {},
   "outputs": [],
   "source": []
  },
  {
   "cell_type": "code",
   "execution_count": null,
   "metadata": {},
   "outputs": [],
   "source": []
  },
  {
   "cell_type": "code",
   "execution_count": 42,
   "metadata": {},
   "outputs": [
    {
     "data": {
      "image/png": "[encoded data removed]",
      "text/plain": [
       "<Figure size 432x288 with 1 Axes>"
      ]
     },
     "metadata": {
      "needs_background": "light"
     },
     "output_type": "display_data"
    }
   ],
   "source": [
    "plt.scatter(y_train_pred,\n",
    "            y_train_pred - y_train,\n",
    "            c='black',\n",
    "            marker='o',\n",
    "            s=35,\n",
    "            alpha=0.5,\n",
    "            label='Training data')\n",
    "plt.scatter(y_test_pred,\n",
    "            y_test_pred - y_test,\n",
    "            c='lightgreen',\n",
    "            marker='s',\n",
    "            s=35,\n",
    "            alpha=0.7,\n",
    "            label='Test data')\n",
    "plt.xlabel('Predicted values')\n",
    "plt.ylabel('Residuals')\n",
    "plt.legend(loc='upper left')\n",
    "plt.hlines(y=0, xmin=-10, xmax=50, lw=2, color='red')\n",
    "plt.xlim([-10, 50])\n",
    "plt.show()\n"
   ]
  },
  {
   "cell_type": "markdown",
   "metadata": {},
   "source": [
    "## Standardisation of data"
   ]
  },
  {
   "cell_type": "code",
   "execution_count": 31,
   "metadata": {},
   "outputs": [],
   "source": [
    "from sklearn.preprocessing import StandardScaler\n",
    "\n",
    "sc = StandardScaler()\n",
    "sc.fit(X_train)\n",
    "X_train_std = sc.transform(X_train)\n",
    "X_test_std = sc.transform(X_test)"
   ]
  },
  {
   "cell_type": "code",
   "execution_count": null,
   "metadata": {},
   "outputs": [],
   "source": []
  },
  {
   "cell_type": "code",
   "execution_count": null,
   "metadata": {},
   "outputs": [],
   "source": []
  }
 ],
 "metadata": {
  "kernelspec": {
   "display_name": "Python 3",
   "language": "python",
   "name": "python3"
  },
  "language_info": {
   "codemirror_mode": {
    "name": "ipython",
    "version": 3
   },
   "file_extension": ".py",
   "mimetype": "text/x-python",
   "name": "python",
   "nbconvert_exporter": "python",
   "pygments_lexer": "ipython3",
   "version": "3.8.2"
  }
 },
 "nbformat": 4,
 "nbformat_minor": 2
}
