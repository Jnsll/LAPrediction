{
 "cells": [
  {
   "cell_type": "code",
   "execution_count": 1,
   "metadata": {},
   "outputs": [],
   "source": [
    "import pandas as pd\n",
    "import numpy as np\n",
    "import csv"
   ]
  },
  {
   "cell_type": "code",
   "execution_count": 12,
   "metadata": {},
   "outputs": [
    {
     "name": "stdout",
     "output_type": "stream",
     "text": [
      "Not file for site number:  4\n",
      "Not file for site number:  17\n",
      "Not file for site number:  23\n",
      "Not file for site number:  26\n",
      "Not file for site number:  31\n",
      "Not file for site number:  32\n",
      "Not file for site number:  36\n"
     ]
    }
   ],
   "source": [
    "df_geomorph = pd.DataFrame(columns=[\"Site\", \"SubCatch\", \"Slope\", \"Elevation\", \"LC\", \"SAR\", \"Area\", \"CV\", \"HV\"])\n",
    "folder = \"/run/media/jnsll/b0417344-c572-4bf5-ac10-c2021d205749/exps_modflops/results/\"\n",
    "\n",
    "for site in range(1, 41):\n",
    "    try:\n",
    "        with open(\"/DATA/These/Projects/AWDE/output/\" + str(site) + \"_slope_elevation_Lc_SAR_A_CV_HV\",\n",
    "            newline=\"\",) as f:\n",
    "            reader = csv.reader(f)\n",
    "            lines = list(reader)\n",
    "    except:\n",
    "        print(\"Not file for site number: \", site)\n",
    "        continue\n",
    "    sub = 1\n",
    "    for line in lines:\n",
    "        crits = line[0].split()\n",
    "        df_geomorph = df_geomorph.append(\n",
    "        {\n",
    "            \"Site\": int(site),\n",
    "            \"SubCatch\": sub,\n",
    "            \"Slope\": crits[0],\n",
    "            \"Elevation\": crits[1],\n",
    "            \"LC\": crits[2],\n",
    "            \"SAR\": crits[3],\n",
    "            \"Area\": crits[4],\n",
    "            \"CV\": crits[5],\n",
    "            \"HV\": crits[6],\n",
    "        },\n",
    "        ignore_index=True,)\n",
    "        sub += 1\n",
    "\n",
    "\n",
    "df_geomorph.to_csv(folder + \"Geomorph_Features_All_Sites_Saturations_SubCatchbis.csv\", index=False)"
   ]
  },
  {
   "cell_type": "code",
   "execution_count": null,
   "metadata": {},
   "outputs": [],
   "source": []
  }
 ],
 "metadata": {
  "kernelspec": {
   "display_name": "Python 3",
   "language": "python",
   "name": "python3"
  },
  "language_info": {
   "codemirror_mode": {
    "name": "ipython",
    "version": 3
   },
   "file_extension": ".py",
   "mimetype": "text/x-python",
   "name": "python",
   "nbconvert_exporter": "python",
   "pygments_lexer": "ipython3",
   "version": "3.8.6"
  }
 },
 "nbformat": 4,
 "nbformat_minor": 4
}
