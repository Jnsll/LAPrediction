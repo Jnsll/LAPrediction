{
 "cells": [
  {
   "cell_type": "code",
   "execution_count": 12,
   "metadata": {},
   "outputs": [],
   "source": [
    "import pandas as pd\n",
    "import numpy as np\n",
    "import gdal"
   ]
  },
  {
   "cell_type": "code",
   "execution_count": 1,
   "metadata": {},
   "outputs": [],
   "source": [
    "site_number = 1"
   ]
  },
  {
   "cell_type": "code",
   "execution_count": 7,
   "metadata": {},
   "outputs": [
    {
     "name": "stdout",
     "output_type": "stream",
     "text": [
      "[ 360487.5  374962.5 6868837.5 6882487.5]\n"
     ]
    }
   ],
   "source": [
    "sites = pd.read_csv(\"/DATA/These/Projects/modflops/docker-simulation/modflow/data/study_sites.txt\", sep=',', header=0, index_col=0)\n",
    "coordinates = sites._get_values[site_number,1:5]\n",
    "print(coordinates)"
   ]
  },
  {
   "cell_type": "code",
   "execution_count": 13,
   "metadata": {},
   "outputs": [],
   "source": [
    "def get_clip_dem(coord):\n",
    "    r_dem = \"/DATA/These/Projects/modflops/docker-simulation/modflow/data/MNT_TOPO_BATH_75m.tif\"\n",
    "    ulY, lrY, ulX, lrX, clip_dem_x, clip_dem_y = get_model_size(coord)\n",
    "    dem = gdal.Open(r_dem)\n",
    "    dem_geot = dem.GetGeoTransform()\n",
    "    dem_data = dem.GetRasterBand(1).ReadAsArray()\n",
    "    clip_dem = dem_data[ulY:lrY, ulX:lrX]\n",
    "    return dem_geot, clip_dem_x, clip_dem_y, clip_dem\n",
    "\n",
    "def get_model_size(coord):\n",
    "    r_dem = \"/DATA/These/Projects/modflops/docker-simulation/modflow/data/MNT_TOPO_BATH_75m.tif\"\n",
    "    xmin = coord[0]\n",
    "    xmax = coord[1]\n",
    "    ymin = coord[2]\n",
    "    ymax = coord[3]\n",
    "    dem = gdal.Open(r_dem)\n",
    "    dem_geot = dem.GetGeoTransform()\n",
    "    dem_Xpos = np.ones((dem.RasterXSize))\n",
    "    dem_Ypos = np.ones((dem.RasterYSize))\n",
    "    for i in range(0, dem.RasterYSize):\n",
    "        yp = dem_geot[3] + (dem_geot[5] * i)\n",
    "        dem_Ypos[i] = yp\n",
    "    for j in range(0, dem.RasterXSize):\n",
    "        xp = dem_geot[0] + (dem_geot[1] * j)\n",
    "        dem_Xpos[j] = xp\n",
    "    ulX = (np.abs(dem_Xpos - xmin)).argmin()\n",
    "    lrX = (np.abs(dem_Xpos - xmax)).argmin()\n",
    "    ulY = (np.abs(dem_Ypos - ymax)).argmin()\n",
    "    lrY = (np.abs(dem_Ypos - ymin)).argmin()\n",
    "    clip_dem_x = dem_Xpos[ulX:lrX]\n",
    "    clip_dem_y = dem_Ypos[ulY:lrY]\n",
    "    return ulY, lrY, ulX, lrX, clip_dem_x, clip_dem_y"
   ]
  },
  {
   "cell_type": "code",
   "execution_count": 14,
   "metadata": {},
   "outputs": [],
   "source": [
    "geot, geotx, geoty, demData = get_clip_dem(coordinates)"
   ]
  },
  {
   "cell_type": "code",
   "execution_count": 20,
   "metadata": {},
   "outputs": [
    {
     "name": "stdout",
     "output_type": "stream",
     "text": [
      "(182, 193)\n"
     ]
    }
   ],
   "source": [
    "print(demData.shape)"
   ]
  },
  {
   "cell_type": "code",
   "execution_count": null,
   "metadata": {},
   "outputs": [],
   "source": []
  }
 ],
 "metadata": {
  "kernelspec": {
   "display_name": "Python 3",
   "language": "python",
   "name": "python3"
  },
  "language_info": {
   "codemirror_mode": {
    "name": "ipython",
    "version": 3
   },
   "file_extension": ".py",
   "mimetype": "text/x-python",
   "name": "python",
   "nbconvert_exporter": "python",
   "pygments_lexer": "ipython3",
   "version": "3.8.3"
  }
 },
 "nbformat": 4,
 "nbformat_minor": 2
}
