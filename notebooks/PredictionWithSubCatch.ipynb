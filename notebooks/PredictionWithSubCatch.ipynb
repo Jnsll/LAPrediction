{
 "cells": [
  {
   "cell_type": "markdown",
   "metadata": {},
   "source": [
    "# Prediction with Sub-Catchment Areas For Each Site"
   ]
  },
  {
   "cell_type": "markdown",
   "metadata": {},
   "source": [
    "## Imports"
   ]
  },
  {
   "cell_type": "code",
   "execution_count": 1,
   "metadata": {},
   "outputs": [],
   "source": [
    "import pandas as pd\n",
    "import prediction_of_H_indicator_with_subCatchmentData as prediction\n",
    "import ipywidgets as widgets\n",
    "import numpy as np\n",
    "from sklearn.ensemble import RandomForestRegressor\n",
    "from sklearn.metrics import mean_squared_error\n",
    "from sklearn.metrics import r2_score"
   ]
  },
  {
   "cell_type": "markdown",
   "metadata": {},
   "source": [
    "## Variables"
   ]
  },
  {
   "cell_type": "code",
   "execution_count": 2,
   "metadata": {},
   "outputs": [],
   "source": [
    "RESULT_FOLDER = \"data\"\n",
    "site_number = 0"
   ]
  },
  {
   "cell_type": "markdown",
   "metadata": {},
   "source": [
    "## Import Data and Clean them"
   ]
  },
  {
   "cell_type": "code",
   "execution_count": 3,
   "metadata": {},
   "outputs": [
    {
     "data": {
      "text/html": [
       "<div>\n",
       "<style scoped>\n",
       "    .dataframe tbody tr th:only-of-type {\n",
       "        vertical-align: middle;\n",
       "    }\n",
       "\n",
       "    .dataframe tbody tr th {\n",
       "        vertical-align: top;\n",
       "    }\n",
       "\n",
       "    .dataframe thead th {\n",
       "        text-align: right;\n",
       "    }\n",
       "</style>\n",
       "<table border=\"1\" class=\"dataframe\">\n",
       "  <thead>\n",
       "    <tr style=\"text-align: right;\">\n",
       "      <th></th>\n",
       "      <th>Site</th>\n",
       "      <th>SubCatch</th>\n",
       "      <th>Slope</th>\n",
       "      <th>Elevation</th>\n",
       "      <th>LC</th>\n",
       "      <th>SAR</th>\n",
       "      <th>Area</th>\n",
       "      <th>CV</th>\n",
       "      <th>HV</th>\n",
       "      <th>HError</th>\n",
       "      <th>Rate</th>\n",
       "    </tr>\n",
       "  </thead>\n",
       "  <tbody>\n",
       "    <tr>\n",
       "      <th>0</th>\n",
       "      <td>1</td>\n",
       "      <td>1</td>\n",
       "      <td>1.203898</td>\n",
       "      <td>8.936689</td>\n",
       "      <td>319.676414</td>\n",
       "      <td>1.000254</td>\n",
       "      <td>1648125</td>\n",
       "      <td>167</td>\n",
       "      <td>211</td>\n",
       "      <td>0.000000</td>\n",
       "      <td>1.0</td>\n",
       "    </tr>\n",
       "    <tr>\n",
       "      <th>1</th>\n",
       "      <td>1</td>\n",
       "      <td>1</td>\n",
       "      <td>1.203898</td>\n",
       "      <td>8.936689</td>\n",
       "      <td>319.676414</td>\n",
       "      <td>1.000254</td>\n",
       "      <td>1648125</td>\n",
       "      <td>167</td>\n",
       "      <td>211</td>\n",
       "      <td>0.003310</td>\n",
       "      <td>2.0</td>\n",
       "    </tr>\n",
       "    <tr>\n",
       "      <th>2</th>\n",
       "      <td>1</td>\n",
       "      <td>1</td>\n",
       "      <td>1.203898</td>\n",
       "      <td>8.936689</td>\n",
       "      <td>319.676414</td>\n",
       "      <td>1.000254</td>\n",
       "      <td>1648125</td>\n",
       "      <td>167</td>\n",
       "      <td>211</td>\n",
       "      <td>0.003310</td>\n",
       "      <td>7.0</td>\n",
       "    </tr>\n",
       "    <tr>\n",
       "      <th>3</th>\n",
       "      <td>1</td>\n",
       "      <td>1</td>\n",
       "      <td>1.203898</td>\n",
       "      <td>8.936689</td>\n",
       "      <td>319.676414</td>\n",
       "      <td>1.000254</td>\n",
       "      <td>1648125</td>\n",
       "      <td>167</td>\n",
       "      <td>211</td>\n",
       "      <td>0.003310</td>\n",
       "      <td>15.0</td>\n",
       "    </tr>\n",
       "    <tr>\n",
       "      <th>4</th>\n",
       "      <td>1</td>\n",
       "      <td>1</td>\n",
       "      <td>1.203898</td>\n",
       "      <td>8.936689</td>\n",
       "      <td>319.676414</td>\n",
       "      <td>1.000254</td>\n",
       "      <td>1648125</td>\n",
       "      <td>167</td>\n",
       "      <td>211</td>\n",
       "      <td>0.035656</td>\n",
       "      <td>21.0</td>\n",
       "    </tr>\n",
       "    <tr>\n",
       "      <th>...</th>\n",
       "      <td>...</td>\n",
       "      <td>...</td>\n",
       "      <td>...</td>\n",
       "      <td>...</td>\n",
       "      <td>...</td>\n",
       "      <td>...</td>\n",
       "      <td>...</td>\n",
       "      <td>...</td>\n",
       "      <td>...</td>\n",
       "      <td>...</td>\n",
       "      <td>...</td>\n",
       "    </tr>\n",
       "    <tr>\n",
       "      <th>6805</th>\n",
       "      <td>40</td>\n",
       "      <td>15</td>\n",
       "      <td>8.875044</td>\n",
       "      <td>224.490265</td>\n",
       "      <td>933.385135</td>\n",
       "      <td>1.006683</td>\n",
       "      <td>4387500</td>\n",
       "      <td>0</td>\n",
       "      <td>12</td>\n",
       "      <td>NaN</td>\n",
       "      <td>NaN</td>\n",
       "    </tr>\n",
       "    <tr>\n",
       "      <th>6806</th>\n",
       "      <td>40</td>\n",
       "      <td>16</td>\n",
       "      <td>6.585227</td>\n",
       "      <td>178.075058</td>\n",
       "      <td>700.135624</td>\n",
       "      <td>1.003876</td>\n",
       "      <td>2930625</td>\n",
       "      <td>0</td>\n",
       "      <td>20</td>\n",
       "      <td>NaN</td>\n",
       "      <td>NaN</td>\n",
       "    </tr>\n",
       "    <tr>\n",
       "      <th>6807</th>\n",
       "      <td>40</td>\n",
       "      <td>17</td>\n",
       "      <td>5.182087</td>\n",
       "      <td>173.802765</td>\n",
       "      <td>685.592278</td>\n",
       "      <td>1.002990</td>\n",
       "      <td>3661875</td>\n",
       "      <td>0</td>\n",
       "      <td>34</td>\n",
       "      <td>NaN</td>\n",
       "      <td>NaN</td>\n",
       "    </tr>\n",
       "    <tr>\n",
       "      <th>6808</th>\n",
       "      <td>40</td>\n",
       "      <td>18</td>\n",
       "      <td>4.617903</td>\n",
       "      <td>196.079285</td>\n",
       "      <td>597.577939</td>\n",
       "      <td>1.002033</td>\n",
       "      <td>5023125</td>\n",
       "      <td>0</td>\n",
       "      <td>68</td>\n",
       "      <td>NaN</td>\n",
       "      <td>NaN</td>\n",
       "    </tr>\n",
       "    <tr>\n",
       "      <th>6809</th>\n",
       "      <td>40</td>\n",
       "      <td>19</td>\n",
       "      <td>2.886285</td>\n",
       "      <td>115.072578</td>\n",
       "      <td>1073.758334</td>\n",
       "      <td>1.000678</td>\n",
       "      <td>697500</td>\n",
       "      <td>0</td>\n",
       "      <td>14</td>\n",
       "      <td>NaN</td>\n",
       "      <td>NaN</td>\n",
       "    </tr>\n",
       "  </tbody>\n",
       "</table>\n",
       "<p>6810 rows × 11 columns</p>\n",
       "</div>"
      ],
      "text/plain": [
       "      Site  SubCatch     Slope   Elevation           LC       SAR     Area  \\\n",
       "0        1         1  1.203898    8.936689   319.676414  1.000254  1648125   \n",
       "1        1         1  1.203898    8.936689   319.676414  1.000254  1648125   \n",
       "2        1         1  1.203898    8.936689   319.676414  1.000254  1648125   \n",
       "3        1         1  1.203898    8.936689   319.676414  1.000254  1648125   \n",
       "4        1         1  1.203898    8.936689   319.676414  1.000254  1648125   \n",
       "...    ...       ...       ...         ...          ...       ...      ...   \n",
       "6805    40        15  8.875044  224.490265   933.385135  1.006683  4387500   \n",
       "6806    40        16  6.585227  178.075058   700.135624  1.003876  2930625   \n",
       "6807    40        17  5.182087  173.802765   685.592278  1.002990  3661875   \n",
       "6808    40        18  4.617903  196.079285   597.577939  1.002033  5023125   \n",
       "6809    40        19  2.886285  115.072578  1073.758334  1.000678   697500   \n",
       "\n",
       "       CV   HV    HError  Rate  \n",
       "0     167  211  0.000000   1.0  \n",
       "1     167  211  0.003310   2.0  \n",
       "2     167  211  0.003310   7.0  \n",
       "3     167  211  0.003310  15.0  \n",
       "4     167  211  0.035656  21.0  \n",
       "...   ...  ...       ...   ...  \n",
       "6805    0   12       NaN   NaN  \n",
       "6806    0   20       NaN   NaN  \n",
       "6807    0   34       NaN   NaN  \n",
       "6808    0   68       NaN   NaN  \n",
       "6809    0   14       NaN   NaN  \n",
       "\n",
       "[6810 rows x 11 columns]"
      ]
     },
     "execution_count": 3,
     "metadata": {},
     "output_type": "execute_result"
    }
   ],
   "source": [
    "input_data = prediction.import_input_data()\n",
    "input_data"
   ]
  },
  {
   "cell_type": "code",
   "execution_count": 4,
   "metadata": {},
   "outputs": [
    {
     "data": {
      "text/html": [
       "<div>\n",
       "<style scoped>\n",
       "    .dataframe tbody tr th:only-of-type {\n",
       "        vertical-align: middle;\n",
       "    }\n",
       "\n",
       "    .dataframe tbody tr th {\n",
       "        vertical-align: top;\n",
       "    }\n",
       "\n",
       "    .dataframe thead th {\n",
       "        text-align: right;\n",
       "    }\n",
       "</style>\n",
       "<table border=\"1\" class=\"dataframe\">\n",
       "  <thead>\n",
       "    <tr style=\"text-align: right;\">\n",
       "      <th></th>\n",
       "      <th>Site</th>\n",
       "      <th>SubCatch</th>\n",
       "      <th>Slope</th>\n",
       "      <th>Elevation</th>\n",
       "      <th>LC</th>\n",
       "      <th>SAR</th>\n",
       "      <th>Area</th>\n",
       "      <th>CV</th>\n",
       "      <th>HV</th>\n",
       "      <th>HError</th>\n",
       "      <th>Rate</th>\n",
       "    </tr>\n",
       "  </thead>\n",
       "  <tbody>\n",
       "    <tr>\n",
       "      <th>0</th>\n",
       "      <td>1</td>\n",
       "      <td>1</td>\n",
       "      <td>1.203898</td>\n",
       "      <td>8.936689</td>\n",
       "      <td>319.676414</td>\n",
       "      <td>1.000254</td>\n",
       "      <td>1648125</td>\n",
       "      <td>167</td>\n",
       "      <td>211</td>\n",
       "      <td>0.000000</td>\n",
       "      <td>1.0</td>\n",
       "    </tr>\n",
       "    <tr>\n",
       "      <th>1</th>\n",
       "      <td>1</td>\n",
       "      <td>1</td>\n",
       "      <td>1.203898</td>\n",
       "      <td>8.936689</td>\n",
       "      <td>319.676414</td>\n",
       "      <td>1.000254</td>\n",
       "      <td>1648125</td>\n",
       "      <td>167</td>\n",
       "      <td>211</td>\n",
       "      <td>0.003310</td>\n",
       "      <td>2.0</td>\n",
       "    </tr>\n",
       "    <tr>\n",
       "      <th>2</th>\n",
       "      <td>1</td>\n",
       "      <td>1</td>\n",
       "      <td>1.203898</td>\n",
       "      <td>8.936689</td>\n",
       "      <td>319.676414</td>\n",
       "      <td>1.000254</td>\n",
       "      <td>1648125</td>\n",
       "      <td>167</td>\n",
       "      <td>211</td>\n",
       "      <td>0.003310</td>\n",
       "      <td>7.0</td>\n",
       "    </tr>\n",
       "    <tr>\n",
       "      <th>3</th>\n",
       "      <td>1</td>\n",
       "      <td>1</td>\n",
       "      <td>1.203898</td>\n",
       "      <td>8.936689</td>\n",
       "      <td>319.676414</td>\n",
       "      <td>1.000254</td>\n",
       "      <td>1648125</td>\n",
       "      <td>167</td>\n",
       "      <td>211</td>\n",
       "      <td>0.003310</td>\n",
       "      <td>15.0</td>\n",
       "    </tr>\n",
       "    <tr>\n",
       "      <th>4</th>\n",
       "      <td>1</td>\n",
       "      <td>1</td>\n",
       "      <td>1.203898</td>\n",
       "      <td>8.936689</td>\n",
       "      <td>319.676414</td>\n",
       "      <td>1.000254</td>\n",
       "      <td>1648125</td>\n",
       "      <td>167</td>\n",
       "      <td>211</td>\n",
       "      <td>0.035656</td>\n",
       "      <td>21.0</td>\n",
       "    </tr>\n",
       "    <tr>\n",
       "      <th>...</th>\n",
       "      <td>...</td>\n",
       "      <td>...</td>\n",
       "      <td>...</td>\n",
       "      <td>...</td>\n",
       "      <td>...</td>\n",
       "      <td>...</td>\n",
       "      <td>...</td>\n",
       "      <td>...</td>\n",
       "      <td>...</td>\n",
       "      <td>...</td>\n",
       "      <td>...</td>\n",
       "    </tr>\n",
       "    <tr>\n",
       "      <th>6784</th>\n",
       "      <td>39</td>\n",
       "      <td>9</td>\n",
       "      <td>5.605823</td>\n",
       "      <td>217.943283</td>\n",
       "      <td>640.819977</td>\n",
       "      <td>1.001974</td>\n",
       "      <td>5394375</td>\n",
       "      <td>0</td>\n",
       "      <td>26</td>\n",
       "      <td>0.003682</td>\n",
       "      <td>2000.0</td>\n",
       "    </tr>\n",
       "    <tr>\n",
       "      <th>6785</th>\n",
       "      <td>39</td>\n",
       "      <td>9</td>\n",
       "      <td>5.605823</td>\n",
       "      <td>217.943283</td>\n",
       "      <td>640.819977</td>\n",
       "      <td>1.001974</td>\n",
       "      <td>5394375</td>\n",
       "      <td>0</td>\n",
       "      <td>26</td>\n",
       "      <td>0.003682</td>\n",
       "      <td>2250.0</td>\n",
       "    </tr>\n",
       "    <tr>\n",
       "      <th>6786</th>\n",
       "      <td>39</td>\n",
       "      <td>9</td>\n",
       "      <td>5.605823</td>\n",
       "      <td>217.943283</td>\n",
       "      <td>640.819977</td>\n",
       "      <td>1.001974</td>\n",
       "      <td>5394375</td>\n",
       "      <td>0</td>\n",
       "      <td>26</td>\n",
       "      <td>0.003682</td>\n",
       "      <td>3000.0</td>\n",
       "    </tr>\n",
       "    <tr>\n",
       "      <th>6787</th>\n",
       "      <td>39</td>\n",
       "      <td>9</td>\n",
       "      <td>5.605823</td>\n",
       "      <td>217.943283</td>\n",
       "      <td>640.819977</td>\n",
       "      <td>1.001974</td>\n",
       "      <td>5394375</td>\n",
       "      <td>0</td>\n",
       "      <td>26</td>\n",
       "      <td>0.003682</td>\n",
       "      <td>3182.0</td>\n",
       "    </tr>\n",
       "    <tr>\n",
       "      <th>6788</th>\n",
       "      <td>39</td>\n",
       "      <td>9</td>\n",
       "      <td>5.605823</td>\n",
       "      <td>217.943283</td>\n",
       "      <td>640.819977</td>\n",
       "      <td>1.001974</td>\n",
       "      <td>5394375</td>\n",
       "      <td>0</td>\n",
       "      <td>26</td>\n",
       "      <td>0.003682</td>\n",
       "      <td>3652.0</td>\n",
       "    </tr>\n",
       "  </tbody>\n",
       "</table>\n",
       "<p>6258 rows × 11 columns</p>\n",
       "</div>"
      ],
      "text/plain": [
       "      Site  SubCatch     Slope   Elevation          LC       SAR     Area  \\\n",
       "0        1         1  1.203898    8.936689  319.676414  1.000254  1648125   \n",
       "1        1         1  1.203898    8.936689  319.676414  1.000254  1648125   \n",
       "2        1         1  1.203898    8.936689  319.676414  1.000254  1648125   \n",
       "3        1         1  1.203898    8.936689  319.676414  1.000254  1648125   \n",
       "4        1         1  1.203898    8.936689  319.676414  1.000254  1648125   \n",
       "...    ...       ...       ...         ...         ...       ...      ...   \n",
       "6784    39         9  5.605823  217.943283  640.819977  1.001974  5394375   \n",
       "6785    39         9  5.605823  217.943283  640.819977  1.001974  5394375   \n",
       "6786    39         9  5.605823  217.943283  640.819977  1.001974  5394375   \n",
       "6787    39         9  5.605823  217.943283  640.819977  1.001974  5394375   \n",
       "6788    39         9  5.605823  217.943283  640.819977  1.001974  5394375   \n",
       "\n",
       "       CV   HV    HError    Rate  \n",
       "0     167  211  0.000000     1.0  \n",
       "1     167  211  0.003310     2.0  \n",
       "2     167  211  0.003310     7.0  \n",
       "3     167  211  0.003310    15.0  \n",
       "4     167  211  0.035656    21.0  \n",
       "...   ...  ...       ...     ...  \n",
       "6784    0   26  0.003682  2000.0  \n",
       "6785    0   26  0.003682  2250.0  \n",
       "6786    0   26  0.003682  3000.0  \n",
       "6787    0   26  0.003682  3182.0  \n",
       "6788    0   26  0.003682  3652.0  \n",
       "\n",
       "[6258 rows x 11 columns]"
      ]
     },
     "execution_count": 4,
     "metadata": {},
     "output_type": "execute_result"
    }
   ],
   "source": [
    "input_data_cleaned = prediction.clean_data(input_data)\n",
    "input_data_cleaned"
   ]
  },
  {
   "cell_type": "markdown",
   "metadata": {},
   "source": [
    "## Choosing the new site to make predictions for"
   ]
  },
  {
   "cell_type": "code",
   "execution_count": 11,
   "metadata": {},
   "outputs": [
    {
     "data": {
      "application/vnd.jupyter.widget-view+json": {
       "model_id": "e863fce0519744449e91358a9b34960d",
       "version_major": 2,
       "version_minor": 0
      },
      "text/plain": [
       "Dropdown(description='Site:', index=6, options=(('Breville-Sur-Mer', 1), ('Agon-Coutainville', 2), ('Saint-Ger…"
      ]
     },
     "metadata": {},
     "output_type": "display_data"
    },
    {
     "data": {
      "application/vnd.jupyter.widget-view+json": {
       "model_id": "622ba744cbad4f8dba9083b8ae710c6d",
       "version_major": 2,
       "version_minor": 0
      },
      "text/plain": [
       "Button(description='Valid', style=ButtonStyle())"
      ]
     },
     "metadata": {},
     "output_type": "display_data"
    },
    {
     "data": {
      "application/vnd.jupyter.widget-view+json": {
       "model_id": "ecca78560b3b424c8436ac818c1d7a3b",
       "version_major": 2,
       "version_minor": 0
      },
      "text/plain": [
       "Output()"
      ]
     },
     "metadata": {},
     "output_type": "display_data"
    }
   ],
   "source": [
    "# CAUTION : if running from jupyterlba => jupyter labextension install @jupyter-widgets/jupyterlab-manager\n",
    "## IF this cell is not running => SKIP THIS CELL and GO TO NEXT CELL :D\n",
    "\n",
    "\n",
    "from IPython.display import display, Javascript\n",
    "\n",
    "drop = widgets.Dropdown(\n",
    "    options=[('Breville-Sur-Mer', 1), ('Agon-Coutainville', 2), ('Saint-Germain-Sur-Ay', 3), ('Jullouville', 4), ('Etréham', 5), ('Genêts', 6), ('Saint-Pair-sur-Mer', 7), ('Arromanches-les-Bains', 8), ('Port-en-Bessin', 9), ('Courtils', 10), ('Lessay', 11), ('Doville', 12), ('Graye-sur-Mer', 13), ('Saint-Potan', 14), ('Saint-Vaast-la-Hougue', 15), ('La_Pernelle', 16), ('Lestre', 17), ('Banville', 18), ('Isigny-sur-Mer', 19), ('Saint-Malo', 20), ('Pierreville', 21), ('La_Feuillie', 22), ('Tourlaville', 23), ('Octeville', 24), ('Saint-Briac-sur-Mer', 25), ('Granville', 26), ('Blainville-sur-Mer', 27), ('Hauteville-sur-Mer', 28), ('Sainte-Marie-du-Mont', 29), ('Vierville-sur-Mer', 30), ('Cherrueix', 31), ('Chef-du-Pont', 32), ('Saint-Lô', 33), ('Couvains', 34), ('Rocheville', 35), ('Lison', 36), ('Marigny', 37), ('Carville', 38), ('Percy', 39), ('Saint-Armand', 40)],\n",
    "    value=7,\n",
    "    description='Site:',\n",
    ")\n",
    "button = widgets.Button(description=\"Valid\")\n",
    "output = widgets.Output()\n",
    "\n",
    "display(drop, button, output)\n",
    "\n",
    "def on_button_clicked(b):\n",
    "    global site_number\n",
    "    site_number = drop.value\n",
    "\n",
    "button.on_click(on_button_clicked)"
   ]
  },
  {
   "cell_type": "code",
   "execution_count": 12,
   "metadata": {},
   "outputs": [],
   "source": [
    "# Manually change the site to predict the H values for ;p\n",
    "\n",
    "site_number = 3"
   ]
  },
  {
   "cell_type": "markdown",
   "metadata": {},
   "source": [
    "## Prepare datasets for training the prediction model"
   ]
  },
  {
   "cell_type": "code",
   "execution_count": 13,
   "metadata": {},
   "outputs": [],
   "source": [
    "features, variable_to_predict = prediction.split_dataset_into_features_and_variable_to_predict(input_data_cleaned)\n",
    "features_train, features_test, variable_train, variable_test = prediction.get_train_and_test_data(features, variable_to_predict, site_number)"
   ]
  },
  {
   "cell_type": "markdown",
   "metadata": {},
   "source": [
    "## Training prediction model"
   ]
  },
  {
   "cell_type": "code",
   "execution_count": 14,
   "metadata": {},
   "outputs": [],
   "source": [
    "def train_random_forest_model(X_train, y_train):\n",
    "    forest = RandomForestRegressor(\n",
    "        n_estimators=1000, criterion=\"mse\", random_state=1, n_jobs=-1\n",
    "    )\n",
    "    forest.fit(X_train, y_train.values.ravel())\n",
    "    return forest\n",
    "\n",
    "prediction_model = train_random_forest_model(features_train, variable_train)"
   ]
  },
  {
   "cell_type": "markdown",
   "metadata": {},
   "source": [
    "## Prediction"
   ]
  },
  {
   "cell_type": "code",
   "execution_count": 15,
   "metadata": {},
   "outputs": [],
   "source": [
    "def predict_with_trained_model(forest, X_train, X_test):\n",
    "    # Predicting results\n",
    "    y_train_pred = forest.predict(X_train)\n",
    "    y_test_pred = forest.predict(X_test)\n",
    "    return y_train_pred, y_test_pred\n",
    "\n",
    "variable_train_pred, variable_test_pred = predict_with_trained_model(prediction_model, features_train, features_test)"
   ]
  },
  {
   "cell_type": "markdown",
   "metadata": {},
   "source": [
    "## Quality metrics for H values (MSE & NSE/R² scores)"
   ]
  },
  {
   "cell_type": "code",
   "execution_count": 16,
   "metadata": {},
   "outputs": [
    {
     "name": "stderr",
     "output_type": "stream",
     "text": [
      "/home/jnsll/.local/lib/python3.8/site-packages/sklearn/metrics/_regression.py:582: UndefinedMetricWarning: R^2 score is not well-defined with less than two samples.\n",
      "  warnings.warn(msg, UndefinedMetricWarning)\n"
     ]
    }
   ],
   "source": [
    "subCatchment_numbers = prediction.get_subcatchment_numbers_for_a_site(site_number, variable_to_predict)\n",
    "liste_variable_test_HError = prediction.get_list_variable_test_Hind_Values(variable_test)\n",
    "liste_variable_test_pred_HError = variable_test_pred\n",
    "mse_test, r2_test = prediction.get_standard_quality_metrics(subCatchment_numbers, liste_variable_test_HError, liste_variable_test_pred_HError)"
   ]
  },
  {
   "cell_type": "markdown",
   "metadata": {},
   "source": [
    "## Get Pmax real and Pmax predicted"
   ]
  },
  {
   "cell_type": "code",
   "execution_count": 17,
   "metadata": {},
   "outputs": [
    {
     "name": "stdout",
     "output_type": "stream",
     "text": [
      "Real value of p:  {2: 1.0, 3: 1.0, 4: 1.0, 5: 1.0}\n",
      "Predicted value of p:  {2: 100.0, 3: 182.0, 4: 100.0, 5: 1.0}\n"
     ]
    }
   ],
   "source": [
    "rates = prediction.get_rates_for_a_site(site_number, features)\n",
    "pmax_test, pmax_pred = prediction.get_real_and_pred_pmax(subCatchment_numbers, rates, liste_variable_test_HError, variable_test_pred)"
   ]
  },
  {
   "cell_type": "markdown",
   "metadata": {},
   "source": [
    "## Save results into files"
   ]
  },
  {
   "cell_type": "code",
   "execution_count": 18,
   "metadata": {},
   "outputs": [
    {
     "name": "stdout",
     "output_type": "stream",
     "text": [
      "File created here:  output/Approx0/Chronicle0/SiteTest3/Prediction_HErrorValues_SubCatch_Chronicle0_Approx0_K27.32_Slope_Elevation_LC_SAR_Area_CV_HV.csv\n",
      "File created here: output/Approx0/Chronicle0/SiteTest3/Prediction_PMax_SubCatch_Chronicle0_Approx0_K27.32_Slope_Elevation_LC_SAR_Area_CV_HV.csv\n"
     ]
    }
   ],
   "source": [
    "prediction.save_Hind_results_into_file(site_number, subCatchment_numbers, rates, liste_variable_test_HError, variable_test_pred, approx=0, chronicle=0, permeability=27.32)\n",
    "prediction.save_Pmax_results_into_file(site_number, pmax_test, pmax_pred, mse_test, r2_test, approx=0, chronicle=0, permeability=27.32)"
   ]
  },
  {
   "cell_type": "code",
   "execution_count": null,
   "metadata": {},
   "outputs": [],
   "source": []
  }
 ],
 "metadata": {
  "kernelspec": {
   "display_name": "Python 3",
   "language": "python",
   "name": "python3"
  },
  "language_info": {
   "codemirror_mode": {
    "name": "ipython",
    "version": 3
   },
   "file_extension": ".py",
   "mimetype": "text/x-python",
   "name": "python",
   "nbconvert_exporter": "python",
   "pygments_lexer": "ipython3",
   "version": "3.8.6"
  }
 },
 "nbformat": 4,
 "nbformat_minor": 4
}
