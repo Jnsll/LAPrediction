{
 "cells": [
  {
   "cell_type": "markdown",
   "id": "91e84624-6673-4785-be9f-b90538f9a7b1",
   "metadata": {},
   "source": [
    "# Validity prediction"
   ]
  },
  {
   "cell_type": "markdown",
   "id": "73eb5705-0ce9-4a4a-b42c-b9f1af8b3b5b",
   "metadata": {},
   "source": [
    "## Description / Goal"
   ]
  },
  {
   "cell_type": "markdown",
   "id": "e5b7366d-d931-4af9-8d27-e3d67a8a90c9",
   "metadata": {},
   "source": [
    "Goal: Create a validity predictive model to predict the validity of a simulation for an approximation rate thanks to features (here geomorphological features of the geographical site) regarding that simulation.\n",
    "\n",
    "\n"
   ]
  },
  {
   "cell_type": "markdown",
   "id": "3ac22a9c-a3cc-4a79-81a1-6ccd350980d1",
   "metadata": {},
   "source": [
    "## Import libraries"
   ]
  },
  {
   "cell_type": "code",
   "execution_count": 1,
   "id": "2b840051-3a03-4a5b-958a-12f0ea3d6e80",
   "metadata": {},
   "outputs": [],
   "source": [
    "import warnings\n",
    "warnings.filterwarnings('ignore')"
   ]
  },
  {
   "cell_type": "code",
   "execution_count": 2,
   "id": "36b7d7e5-6316-4c45-903c-2d67e7916f08",
   "metadata": {},
   "outputs": [],
   "source": [
    "import os\n",
    "import pandas as pd\n",
    "import random\n",
    "random.seed(42)\n",
    "import numpy as np\n",
    "from sklearn.ensemble import RandomForestRegressor\n",
    "from sklearn.metrics import mean_squared_error\n",
    "from sklearn.metrics import r2_score\n",
    "from sklearn.neighbors import KNeighborsClassifier"
   ]
  },
  {
   "cell_type": "markdown",
   "id": "e31aa398-f205-4a3a-9730-5266157f4a68",
   "metadata": {},
   "source": [
    "## Functions to load "
   ]
  },
  {
   "cell_type": "code",
   "execution_count": 3,
   "id": "b653499c-0442-43e7-a6aa-e615867d8808",
   "metadata": {},
   "outputs": [],
   "source": [
    "def add_validity_feature_from_validation_metric(df_data, validity_threshold):\n",
    "    df_data[\"Validity\"] = np.where(df_data[\"Validation Metric\"] > validity_threshold, 0, 1)\n",
    "    return df_data"
   ]
  },
  {
   "cell_type": "code",
   "execution_count": 4,
   "id": "c7ac280c-dfcc-44f2-b724-007d51da6b8d",
   "metadata": {
    "tags": []
   },
   "outputs": [],
   "source": [
    "def retrieve_list_cases_and_split_data_BVE(data_complete, sites_completes, ratio_train):\n",
    "    #Computing the number of sites that are used for the training\n",
    "    training_nb_cases = round(len(sites_completes) * ratio_train)\n",
    "\n",
    "    # Selecting the sites for the training and testing sets randomly \n",
    "    training_cases = random.sample(sites_completes.tolist(), training_nb_cases)\n",
    "    testing_cases = [x for x in sites_completes.tolist() if x not in training_cases]\n",
    "    \n",
    "    # Retrieving the dataset for the training phase\n",
    "    data_train = extract_data_from_list_of_sites(data_complete, training_cases)\n",
    "    \n",
    "    # Retrieving the dataset for the testing phase\n",
    "    data_test = extract_data_from_list_of_sites(data_complete, testing_cases)\n",
    "\n",
    "    return data_train, data_test, training_cases, testing_cases"
   ]
  },
  {
   "cell_type": "code",
   "execution_count": 5,
   "id": "9d1192cc-a303-4ac9-899b-580d94c54091",
   "metadata": {},
   "outputs": [],
   "source": [
    "def extract_data_from_list_of_sites(data_complete, cases):\n",
    "    data_cases = pd.DataFrame(columns=data_complete.columns)\n",
    "    for case in cases:\n",
    "        data_case = data_complete.loc[(data_complete['SiteNumber'] == case)]\n",
    "        data_cases = pd.concat([data_cases, data_case], sort=False)\n",
    "        \n",
    "    return data_cases"
   ]
  },
  {
   "cell_type": "code",
   "execution_count": 6,
   "id": "8b639882-7daa-445a-958d-59f53f79ef91",
   "metadata": {},
   "outputs": [],
   "source": [
    "def extract_features_and_outputs_datasets_BVE(data_train, data_test, features):\n",
    "    # load names of all the features contained in the dataset to extract the data we want from\n",
    "    global all_features\n",
    "    \n",
    "    X_train, y_train = create_input_and_output_datasets_for_validity(data_train)\n",
    "    X_test, y_test = create_input_and_output_datasets_for_validity(data_test)\n",
    "    \n",
    "    \n",
    "    features_to_remove = [feature for feature in all_features if feature not in features]\n",
    "    for feature in features_to_remove:\n",
    "        del X_train[str(feature)]\n",
    "        del X_test[str(feature)]\n",
    "\n",
    "    return X_train, y_train, X_test, y_test "
   ]
  },
  {
   "cell_type": "code",
   "execution_count": 7,
   "id": "c40ce869-248d-476e-ba50-8c8ccc71326a",
   "metadata": {},
   "outputs": [],
   "source": [
    "def create_input_and_output_datasets_for_validity(data):\n",
    "    y_data = data.filter([\"SiteNumber\", \"Validity\"], axis=1)\n",
    "    X_data = data.drop([\"Chronicle\", \"Validation Metric\", \"Accuracy\", \"Time\", \"Validity\"], axis=1)\n",
    "    del y_data[\"SiteNumber\"]\n",
    "    del X_data[\"SiteNumber\"]\n",
    "    return X_data, y_data"
   ]
  },
  {
   "cell_type": "code",
   "execution_count": 8,
   "id": "5f27bcaf-751c-4ca1-85e3-08e163095497",
   "metadata": {},
   "outputs": [],
   "source": [
    "from sklearn import metrics\n",
    "\n",
    "def compute_score(y_test, y_test_pred):\n",
    "    acc_score = metrics.accuracy_score(y_test.values.ravel().astype(int), y_test_pred)\n",
    "    return acc_score"
   ]
  },
  {
   "cell_type": "code",
   "execution_count": 9,
   "id": "d66e418f-3443-4c44-855d-23b845848fab",
   "metadata": {},
   "outputs": [],
   "source": [
    "def update_and_store_data_with_validity_pred(path, data_test, y_test, y_test_pred, testing_cases):\n",
    "    suffixe = \"_\".join(map(str,list(map(int, sorted(testing_cases)))))\n",
    "    data_test = data_test.assign(Validitytest=y_test.values.ravel())\n",
    "    data_test = data_test.assign(ValidityPred=y_test_pred)\n",
    "    data_test.to_csv(os.path.join(path,\"data/Output_Data/Data_Test_With_Validity_pred_Rates_\" + str(nb_rates) + \"_Features_\" + str('_'.join(features)) + \"_\" + str(scale)  + \"_\" + str(suffixe) + \".csv\"), index=False, sep=\";\")\n",
    "    return data_test"
   ]
  },
  {
   "cell_type": "markdown",
   "id": "4bfefceb-fec1-425b-800b-06669b1f2b8f",
   "metadata": {},
   "source": [
    "# Evaluation Pipeline"
   ]
  },
  {
   "cell_type": "markdown",
   "id": "7a6dc23f-79f1-4a8b-a23f-975f2ca8daf3",
   "metadata": {},
   "source": [
    "## Parameters"
   ]
  },
  {
   "cell_type": "code",
   "execution_count": 10,
   "id": "6ba8e4d0-9cbd-4b8a-8999-cd954a274a75",
   "metadata": {},
   "outputs": [],
   "source": [
    "path = os.path.abspath(os.path.join(os.path.abspath(\"\"), os.pardir))\n",
    "nb_rates = 30\n",
    "chronicle = 0\n",
    "scale = \"BVE\"\n",
    "ratio_train = 0.8\n",
    "validity_threshold = 0.1\n",
    "k=3\n",
    "\n",
    "# Different sets of features \n",
    "set_geomorph = [\"Slope\", \"Elevation\", \"LC\", \"CW\", \"Area\"]\n",
    "set_CVHV = [\"Coastal Vulnerability\", \"Hydrological Vulnerability\"]\n",
    "set_saturation= [\"Satured Zone Area\", \"Vulnerability Sum\", \"Vulnerability Rate\"]\n",
    "set_cells = [\"Number of Cells\"]\n",
    "all_features = set_geomorph + set_CVHV + set_saturation + set_cells\n",
    "\n",
    "# We select the type of features we want to use for training our model\n",
    "features = set_geomorph"
   ]
  },
  {
   "cell_type": "markdown",
   "id": "004ca009-1f6a-4960-a246-5cc0c389b6be",
   "metadata": {},
   "source": [
    "## Pipeline"
   ]
  },
  {
   "cell_type": "code",
   "execution_count": 14,
   "id": "23f13450-9800-4d6d-9f0c-9f31a290c530",
   "metadata": {},
   "outputs": [],
   "source": [
    "def pipeline_pred_validity(path, nb_rates, features, scale, ratio_train):\n",
    "    df_data = pd.read_csv(os.path.join(path, \"data/\", \"Input_Data_Time_ValidMetric_Features_Rates_\" + str(nb_rates) + \"_Features_\" + \"Geomorph_CVHV_Saturation_Cells\" + \"_\" + str(scale) + \"_Comparable.csv\"), sep=\";\")\n",
    "    #data_complete = extract_complete_data_for_BVE(df_data)\n",
    "    sites_completes = df_data.SiteNumber.unique()\n",
    "    df_data = add_validity_feature_from_validation_metric(df_data, validity_threshold)\n",
    "    data_train, data_test, training_cases, testing_cases = retrieve_list_cases_and_split_data_BVE(df_data, sites_completes, ratio_train)\n",
    "    X_train, y_train, X_test, y_test = extract_features_and_outputs_datasets_BVE(data_train, data_test, features)\n",
    "    global k\n",
    "    classifier = KNeighborsClassifier(n_neighbors=k)\n",
    "    classifier.fit(X_train, y_train.values.ravel().astype(int))\n",
    "    y_test_pred = classifier.predict(X_test)\n",
    "    acc_score = compute_score(y_test, y_test_pred)\n",
    "    print(\"Accuracy Score:\", acc_score)\n",
    "    data_test = update_and_store_data_with_validity_pred(path, data_test, y_test, y_test_pred, testing_cases)\n",
    "    return acc_score\n",
    "\n",
    "    "
   ]
  },
  {
   "cell_type": "markdown",
   "id": "3ab25ced-fcd3-4a70-a32f-b9aa478fdc42",
   "metadata": {},
   "source": [
    "## Replication of elaboration of the validity predictive model : x 25"
   ]
  },
  {
   "cell_type": "code",
   "execution_count": 15,
   "id": "02a28c2d-553b-4a95-99f6-5a274aa598dd",
   "metadata": {},
   "outputs": [
    {
     "name": "stdout",
     "output_type": "stream",
     "text": [
      "Replication: 1\n",
      "Accuracy Score: 0.9133333333333333\n",
      "----------\n",
      "Replication: 2\n",
      "Accuracy Score: 0.9066666666666666\n",
      "----------\n",
      "Replication: 3\n",
      "Accuracy Score: 0.9133333333333333\n",
      "----------\n",
      "Replication: 4\n",
      "Accuracy Score: 0.8866666666666667\n",
      "----------\n",
      "Replication: 5\n",
      "Accuracy Score: 0.84\n",
      "----------\n",
      "Replication: 6\n",
      "Accuracy Score: 0.8666666666666667\n",
      "----------\n",
      "Replication: 7\n",
      "Accuracy Score: 0.78\n",
      "----------\n",
      "Replication: 8\n",
      "Accuracy Score: 0.8733333333333333\n",
      "----------\n",
      "Replication: 9\n",
      "Accuracy Score: 0.8466666666666667\n",
      "----------\n",
      "Replication: 10\n",
      "Accuracy Score: 0.8933333333333333\n",
      "----------\n",
      "Replication: 11\n",
      "Accuracy Score: 0.8066666666666666\n",
      "----------\n",
      "Replication: 12\n",
      "Accuracy Score: 0.9133333333333333\n",
      "----------\n",
      "Replication: 13\n",
      "Accuracy Score: 0.9133333333333333\n",
      "----------\n",
      "Replication: 14\n",
      "Accuracy Score: 0.7733333333333333\n",
      "----------\n",
      "Replication: 15\n",
      "Accuracy Score: 0.8733333333333333\n",
      "----------\n",
      "Replication: 16\n",
      "Accuracy Score: 0.8866666666666667\n",
      "----------\n",
      "Replication: 17\n",
      "Accuracy Score: 0.8333333333333334\n",
      "----------\n",
      "Replication: 18\n",
      "Accuracy Score: 0.8\n",
      "----------\n",
      "Replication: 19\n",
      "Accuracy Score: 0.86\n",
      "----------\n",
      "Replication: 20\n",
      "Accuracy Score: 0.9266666666666666\n",
      "----------\n",
      "Replication: 21\n",
      "Accuracy Score: 0.9533333333333334\n",
      "----------\n",
      "Replication: 22\n",
      "Accuracy Score: 0.7733333333333333\n",
      "----------\n",
      "Replication: 23\n",
      "Accuracy Score: 0.88\n",
      "----------\n",
      "Replication: 24\n",
      "Accuracy Score: 0.8933333333333333\n",
      "----------\n",
      "Replication: 25\n",
      "Accuracy Score: 0.9266666666666666\n",
      "----------\n"
     ]
    }
   ],
   "source": [
    "scores_acc = []\n",
    "for i in range(25):\n",
    "    print(\"Replication:\", i+1)\n",
    "    acc_score = pipeline_pred_validity(path, nb_rates, features, scale, ratio_train)\n",
    "    scores_acc.append(acc_score)\n",
    "    print(\"----------\")"
   ]
  },
  {
   "cell_type": "markdown",
   "id": "ecb3ff9f-b1ef-4c5e-aac4-1a18f1171a01",
   "metadata": {},
   "source": [
    "## Statistics of scores"
   ]
  },
  {
   "cell_type": "markdown",
   "id": "c60844f3-e474-467f-87ed-33e53d612e35",
   "metadata": {},
   "source": [
    "### Accuracy"
   ]
  },
  {
   "cell_type": "code",
   "execution_count": 16,
   "id": "6235655f-ab09-4d80-8fd6-1df2d71c6dda",
   "metadata": {},
   "outputs": [
    {
     "name": "stdout",
     "output_type": "stream",
     "text": [
      "Mean: 0.8693333333333333 , Median: 0.88\n",
      "Min: 0.7733333333333333 , Max: 0.9533333333333334 , Std: 0.05106277908033803\n"
     ]
    }
   ],
   "source": [
    "import statistics\n",
    "print(\"Mean:\", statistics.mean(scores_acc), \", Median:\", statistics.median(scores_acc))\n",
    "print(\"Min:\", min(scores_acc), \", Max:\", max(scores_acc), \", Std:\", statistics.stdev(scores_acc))"
   ]
  },
  {
   "cell_type": "markdown",
   "id": "d2ca232e-b7c0-45c0-8a46-2cc4b34bc5d4",
   "metadata": {},
   "source": [
    "## Plotting the scores"
   ]
  },
  {
   "cell_type": "code",
   "execution_count": 13,
   "id": "26610ff1-afdc-4f8f-9867-a6c86ba79ed5",
   "metadata": {},
   "outputs": [
    {
     "data": {
      "image/png": "[encoded data removed]",
      "text/plain": [
       "<Figure size 1000x700 with 1 Axes>"
      ]
     },
     "metadata": {},
     "output_type": "display_data"
    }
   ],
   "source": [
    "# Import libraries\n",
    "import matplotlib.pyplot as plt\n",
    "import numpy as np\n",
    "\n",
    " \n",
    "fig = plt.figure(figsize =(10, 7))\n",
    " \n",
    "# Creating plot\n",
    "plt.boxplot(scores_acc)\n",
    "plt.xticks([1], [\"\"])\n",
    " \n",
    "# show plot\n",
    "#plt.show()\n",
    "plt.savefig('Validity_Acc_25Repetitions.pdf')"
   ]
  },
  {
   "cell_type": "markdown",
   "id": "70893168-8a0e-4f1d-80af-3aa8818123a5",
   "metadata": {},
   "source": [
    "### "
   ]
  }
 ],
 "metadata": {
  "kernelspec": {
   "display_name": "Python 3 (ipykernel)",
   "language": "python",
   "name": "python3"
  },
  "language_info": {
   "codemirror_mode": {
    "name": "ipython",
    "version": 3
   },
   "file_extension": ".py",
   "mimetype": "text/x-python",
   "name": "python",
   "nbconvert_exporter": "python",
   "pygments_lexer": "ipython3",
   "version": "3.9.13"
  }
 },
 "nbformat": 4,
 "nbformat_minor": 5
}
