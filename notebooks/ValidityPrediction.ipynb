{
 "cells": [
  {
   "cell_type": "markdown",
   "id": "91e84624-6673-4785-be9f-b90538f9a7b1",
   "metadata": {},
   "source": [
    "# Validity prediction"
   ]
  },
  {
   "cell_type": "markdown",
   "id": "73eb5705-0ce9-4a4a-b42c-b9f1af8b3b5b",
   "metadata": {},
   "source": [
    "## Description / Goal"
   ]
  },
  {
   "cell_type": "markdown",
   "id": "e5b7366d-d931-4af9-8d27-e3d67a8a90c9",
   "metadata": {},
   "source": [
    "Goal: Create data model to predict properties (e.g., execution time, validity metric) of a simulation thanks to features regarding that simulation. The end goal is to define the approximation factor tu use for that simulation to match a defined execution budget (e.g., execution time).\n",
    "\n"
   ]
  },
  {
   "cell_type": "markdown",
   "id": "3ac22a9c-a3cc-4a79-81a1-6ccd350980d1",
   "metadata": {},
   "source": [
    "## Import libraries"
   ]
  },
  {
   "cell_type": "code",
   "execution_count": 81,
   "id": "2b840051-3a03-4a5b-958a-12f0ea3d6e80",
   "metadata": {},
   "outputs": [],
   "source": [
    "import warnings\n",
    "warnings.filterwarnings('ignore')"
   ]
  },
  {
   "cell_type": "code",
   "execution_count": 70,
   "id": "36b7d7e5-6316-4c45-903c-2d67e7916f08",
   "metadata": {},
   "outputs": [],
   "source": [
    "import os\n",
    "import pandas as pd\n",
    "import random\n",
    "random.seed(42)\n",
    "import numpy as np\n",
    "from sklearn.ensemble import RandomForestRegressor\n",
    "from sklearn.metrics import mean_squared_error\n",
    "from sklearn.metrics import r2_score\n",
    "from sklearn.neighbors import KNeighborsClassifier"
   ]
  },
  {
   "cell_type": "markdown",
   "id": "e31aa398-f205-4a3a-9730-5266157f4a68",
   "metadata": {},
   "source": [
    "## Functions to load "
   ]
  },
  {
   "cell_type": "code",
   "execution_count": 71,
   "id": "b653499c-0442-43e7-a6aa-e615867d8808",
   "metadata": {},
   "outputs": [],
   "source": [
    "def add_validity_feature_from_validation_metric(df_data, validity_threshold):\n",
    "    df_data[\"Validity\"] = np.where(df_data[\"Validation Metric\"] > validity_threshold, 0, 1)\n",
    "    return df_data"
   ]
  },
  {
   "cell_type": "code",
   "execution_count": 72,
   "id": "c7ac280c-dfcc-44f2-b724-007d51da6b8d",
   "metadata": {
    "tags": []
   },
   "outputs": [],
   "source": [
    "def retrieve_list_cases_and_split_data_BVE(data_complete, sites_completes, ratio_train):\n",
    "    #Computing the number of sites that are used for the training\n",
    "    training_nb_cases = round(len(sites_completes) * ratio_train)\n",
    "\n",
    "    # Selecting the sites for the training and testing sets randomly \n",
    "    training_cases = random.sample(sites_completes.tolist(), training_nb_cases)\n",
    "    testing_cases = [x for x in sites_completes.tolist() if x not in training_cases]\n",
    "    \n",
    "    # Retrieving the dataset for the training phase\n",
    "    data_train = pd.DataFrame(columns=data_complete.columns)\n",
    "    for cas in training_cases:\n",
    "        train = data_complete.loc[(data_complete['SiteNumber'] == cas)]\n",
    "        data_train = pd.concat([data_train, train], sort=False)\n",
    "    # Retrieving the dataset for the testing phase\n",
    "    data_test = pd.DataFrame(columns=data_complete.columns)\n",
    "    for case in testing_cases:\n",
    "        test = data_complete.loc[(data_complete['SiteNumber'] == case)]\n",
    "        data_test = pd.concat([data_test, test], sort=False)\n",
    "\n",
    "    return data_train, data_test, training_cases, testing_cases"
   ]
  },
  {
   "cell_type": "code",
   "execution_count": 73,
   "id": "8b639882-7daa-445a-958d-59f53f79ef91",
   "metadata": {},
   "outputs": [],
   "source": [
    "def extract_features_and_outputs_datasets_BVE(data_train, data_test, features):\n",
    "    # load names of all the features contained in the dataset to extract the data we want from\n",
    "    global all_features\n",
    "    \n",
    "    y_train = data_train.filter([\"SiteNumber\", \"Validity\"], axis=1)\n",
    "    X_train = data_train.drop([\"Chronicle\", \"Validation Metric\", \"Accuracy\", \"Time\", \"Validity\"], axis=1)\n",
    "    del y_train[\"SiteNumber\"]\n",
    "    del X_train[\"SiteNumber\"]\n",
    "    \n",
    "    y_test = data_test.filter([\"SiteNumber\", \"Validity\"], axis=1)\n",
    "    X_test = data_test.drop([\"Chronicle\", \"Validation Metric\", \"Accuracy\", \"Time\", \"Validity\"], axis=1)\n",
    "    del y_test[\"SiteNumber\"]\n",
    "    del X_test[\"SiteNumber\"]\n",
    "    \n",
    "    \n",
    "    features_to_remove = [feature for feature in all_features if feature not in features]\n",
    "    for feature in features_to_remove:\n",
    "        del X_train[str(feature)]\n",
    "        del X_test[str(feature)]\n",
    "\n",
    "    return X_train, y_train, X_test, y_test "
   ]
  },
  {
   "cell_type": "code",
   "execution_count": 74,
   "id": "51b9ea30-e174-4e56-9e08-d591f5c889dd",
   "metadata": {},
   "outputs": [],
   "source": [
    "def train_forest(X_train, y_train):\n",
    "    forest = RandomForestRegressor(\n",
    "        n_estimators=1000, criterion='squared_error', random_state=1, n_jobs=-1, oob_score = True, bootstrap = True\n",
    "    )\n",
    "    forest.fit(X_train, y_train.values.ravel())\n",
    "\n",
    "    return forest"
   ]
  },
  {
   "cell_type": "code",
   "execution_count": 75,
   "id": "5f27bcaf-751c-4ca1-85e3-08e163095497",
   "metadata": {},
   "outputs": [],
   "source": [
    "from sklearn import metrics\n",
    "\n",
    "def compute_score(y_test, y_test_pred):\n",
    "    acc_score = metrics.accuracy_score(y_test.values.ravel().astype(int), y_test_pred)\n",
    "    return acc_score"
   ]
  },
  {
   "cell_type": "code",
   "execution_count": 76,
   "id": "d66e418f-3443-4c44-855d-23b845848fab",
   "metadata": {},
   "outputs": [],
   "source": [
    "def update_and_store_data_with_validity_pred(path, data_test, y_test, y_test_pred, testing_cases, one_case=False):\n",
    "    suffixe = \"_\".join(map(str,list(map(int, sorted(testing_cases)))))\n",
    "    # If we want the testing dataset to correspond to one unique site instead of a ratio (e.g., 20%)\n",
    "    if one_case:\n",
    "        suffixe += \"_OneCase\"\n",
    "    data_test = data_test.assign(Validitytest=y_test.values.ravel())\n",
    "    data_test = data_test.assign(ValidityPred=y_test_pred)\n",
    "    \n",
    "    data_test.to_csv(os.path.join(path,\"data/Output_Data/Data_Test_With_Validity_pred_Rates_\" + str(nb_rates) + \"_Features_\" + str('_'.join(features)) + \"_\" + str(scale)  + \"_\" + str(suffixe) + \".csv\"), index=False, sep=\";\")\n",
    "    return data_test"
   ]
  },
  {
   "cell_type": "markdown",
   "id": "7a6dc23f-79f1-4a8b-a23f-975f2ca8daf3",
   "metadata": {},
   "source": [
    "# Parameters"
   ]
  },
  {
   "cell_type": "code",
   "execution_count": 77,
   "id": "6ba8e4d0-9cbd-4b8a-8999-cd954a274a75",
   "metadata": {},
   "outputs": [
    {
     "name": "stdout",
     "output_type": "stream",
     "text": [
      "/Users/june/Dev/LAPrediction\n"
     ]
    }
   ],
   "source": [
    "#path = \"/Users/june/Dev/LAPrediction/\"\n",
    "path = os.path.abspath(os.path.join(os.path.abspath(\"\"), os.pardir))\n",
    "print(path)\n",
    "nb_rates = 30\n",
    "chronicle = 0\n",
    "#features = \"Geomorph_CVHV_Saturation_Cells\"\n",
    "scale = \"BVE\"\n",
    "ratio_train = 0.8\n",
    "validity_threshold = 0.1\n",
    "k=3\n",
    "\n",
    "# Different sets of features \n",
    "set_geomorph = [\"Slope\", \"Elevation\", \"LC\", \"CW\", \"Area\"]\n",
    "set_CVHV = [\"Coastal Vulnerability\", \"Hydrological Vulnerability\"]\n",
    "set_saturation= [\"Satured Zone Area\", \"Vulnerability Sum\", \"Vulnerability Rate\"]\n",
    "set_cells = [\"Number of Cells\"]\n",
    "all_features = set_geomorph + set_CVHV + set_saturation + set_cells\n",
    "\n",
    "# We select the type of features we want to use for training our model\n",
    "features = set_geomorph"
   ]
  },
  {
   "cell_type": "markdown",
   "id": "004ca009-1f6a-4960-a246-5cc0c389b6be",
   "metadata": {},
   "source": [
    "# Pipeline"
   ]
  },
  {
   "cell_type": "code",
   "execution_count": 88,
   "id": "23f13450-9800-4d6d-9f0c-9f31a290c530",
   "metadata": {},
   "outputs": [],
   "source": [
    "\n",
    "def pipeline_pred_validity(path, nb_rates, features, scale, ratio_train):\n",
    "    df_data = pd.read_csv(os.path.join(path, \"data/\", \"Input_Data_Time_ValidMetric_Features_Rates_\" + str(nb_rates) + \"_Features_\" + \"Geomorph_CVHV_Saturation_Cells\" + \"_\" + str(scale) + \"_Comparable.csv\"), sep=\";\")\n",
    "    #data_complete = extract_complete_data_for_BVE(df_data)\n",
    "    sites_completes = df_data.SiteNumber.unique()\n",
    "    df_data = add_validity_feature_from_validation_metric(df_data, validity_threshold)\n",
    "    data_train, data_test, training_cases, testing_cases = retrieve_list_cases_and_split_data_BVE(df_data, sites_completes, ratio_train)\n",
    "    X_train, y_train, X_test, y_test = extract_features_and_outputs_datasets_BVE(data_train, data_test, features)\n",
    "    global k\n",
    "    classifier = KNeighborsClassifier(n_neighbors=k)\n",
    "    classifier.fit(X_train, y_train.values.ravel().astype(int))\n",
    "    y_test_pred = classifier.predict(X_test)\n",
    "    acc_score = compute_score(y_test, y_test_pred)\n",
    "    print(\"Accuracy Score:\", acc_score)\n",
    "    data_test = update_and_store_data_with_validity_pred(path, data_test, y_test, y_test_pred, testing_cases, one_case=False)\n",
    "    return acc_score\n",
    "\n",
    "    "
   ]
  },
  {
   "cell_type": "code",
   "execution_count": 89,
   "id": "02a28c2d-553b-4a95-99f6-5a274aa598dd",
   "metadata": {},
   "outputs": [
    {
     "name": "stdout",
     "output_type": "stream",
     "text": [
      "Accuracy Score: 0.92\n",
      "Accuracy Score: 0.9133333333333333\n",
      "Accuracy Score: 0.86\n",
      "Accuracy Score: 0.8666666666666667\n",
      "Accuracy Score: 0.9133333333333333\n",
      "Accuracy Score: 0.94\n",
      "Accuracy Score: 0.8266666666666667\n",
      "Accuracy Score: 0.92\n",
      "Accuracy Score: 0.8866666666666667\n",
      "Accuracy Score: 0.84\n",
      "Accuracy Score: 0.78\n",
      "Accuracy Score: 0.9066666666666666\n",
      "Accuracy Score: 0.8266666666666667\n",
      "Accuracy Score: 0.8733333333333333\n",
      "Accuracy Score: 0.9133333333333333\n",
      "Accuracy Score: 0.8733333333333333\n",
      "Accuracy Score: 0.9\n",
      "Accuracy Score: 0.9066666666666666\n",
      "Accuracy Score: 0.8866666666666667\n",
      "Accuracy Score: 0.92\n",
      "Accuracy Score: 0.9\n",
      "Accuracy Score: 0.8866666666666667\n",
      "Accuracy Score: 0.8933333333333333\n",
      "Accuracy Score: 0.9\n",
      "Accuracy Score: 0.94\n",
      "Accuracy Score: 0.9\n",
      "Accuracy Score: 0.9133333333333333\n",
      "Accuracy Score: 0.8733333333333333\n",
      "Accuracy Score: 0.96\n",
      "Accuracy Score: 0.7066666666666667\n"
     ]
    }
   ],
   "source": [
    "scores_acc = []\n",
    "for i in range(30):\n",
    "    acc_score = pipeline_pred_validity(path, nb_rates, features, scale, ratio_train)\n",
    "    scores_acc.append(acc_score)"
   ]
  },
  {
   "cell_type": "code",
   "execution_count": 90,
   "id": "6235655f-ab09-4d80-8fd6-1df2d71c6dda",
   "metadata": {},
   "outputs": [
    {
     "name": "stdout",
     "output_type": "stream",
     "text": [
      "[0.92, 0.9133333333333333, 0.86, 0.8666666666666667, 0.9133333333333333, 0.94, 0.8266666666666667, 0.92, 0.8866666666666667, 0.84, 0.78, 0.9066666666666666, 0.8266666666666667, 0.8733333333333333, 0.9133333333333333, 0.8733333333333333, 0.9, 0.9066666666666666, 0.8866666666666667, 0.92, 0.9, 0.8866666666666667, 0.8933333333333333, 0.9, 0.94, 0.9, 0.9133333333333333, 0.8733333333333333, 0.96, 0.7066666666666667]\n"
     ]
    },
    {
     "data": {
      "text/plain": [
       "0.8848888888888888"
      ]
     },
     "execution_count": 90,
     "metadata": {},
     "output_type": "execute_result"
    }
   ],
   "source": [
    "import statistics\n",
    "print(scores_acc)\n",
    "statistics.mean(scores_acc)"
   ]
  },
  {
   "cell_type": "code",
   "execution_count": 26,
   "id": "18a7a3d8-a46a-4c1e-a84d-86fa9c0f8e14",
   "metadata": {},
   "outputs": [],
   "source": []
  },
  {
   "cell_type": "code",
   "execution_count": 93,
   "id": "26610ff1-afdc-4f8f-9867-a6c86ba79ed5",
   "metadata": {},
   "outputs": [
    {
     "data": {
      "image/png": "[encoded data removed]",
      "text/plain": [
       "<Figure size 1000x700 with 1 Axes>"
      ]
     },
     "metadata": {},
     "output_type": "display_data"
    }
   ],
   "source": [
    "# Import libraries\n",
    "import matplotlib.pyplot as plt\n",
    "import numpy as np\n",
    " \n",
    " \n",
    "#Creating dataset\n",
    "#np.random.seed(10)\n",
    "#data = np.random.normal(100, 20, 200)\n",
    " \n",
    "fig = plt.figure(figsize =(10, 7))\n",
    " \n",
    "# Creating plot\n",
    "plt.boxplot(scores_acc)\n",
    " \n",
    "# show plot\n",
    "plt.show()"
   ]
  },
  {
   "cell_type": "code",
   "execution_count": 94,
   "id": "184026a9-e128-4dc2-a778-a608ba3b462d",
   "metadata": {},
   "outputs": [
    {
     "data": {
      "image/png": "[encoded data removed]",
      "text/plain": [
       "<Figure size 1000x700 with 1 Axes>"
      ]
     },
     "metadata": {},
     "output_type": "display_data"
    }
   ],
   "source": [
    "fig = plt.figure(figsize =(10, 7))\n",
    " \n",
    "# Creating plot\n",
    "plt.violinplot(scores_acc)\n",
    " \n",
    "# show plot\n",
    "plt.show()"
   ]
  },
  {
   "cell_type": "code",
   "execution_count": null,
   "id": "acd2f98e-f49d-411a-8526-e6b3d0986091",
   "metadata": {},
   "outputs": [],
   "source": []
  },
  {
   "cell_type": "code",
   "execution_count": null,
   "id": "0f8e23ab-9bd1-4d6c-a3d5-da2496c7de3e",
   "metadata": {},
   "outputs": [],
   "source": []
  },
  {
   "cell_type": "code",
   "execution_count": 27,
   "id": "99fb7d34-3f61-4f4d-809d-0a06054ace21",
   "metadata": {},
   "outputs": [],
   "source": [
    "#df_data.to_csv(os.path.join(path, \"data/\", \"Input_Data_Time_ValidMetric_Features_Rates_\" + str(nb_rates) + \"_Features_\" + \"Geomorph_CVHV_Saturation_Cells_Validity\" + \"_\" + str(scale) + \"_Comparable.csv\"), sep=\";\", index=False)"
   ]
  },
  {
   "cell_type": "code",
   "execution_count": 31,
   "id": "4a987960-65b3-441a-bba3-32b332ea3163",
   "metadata": {},
   "outputs": [],
   "source": []
  },
  {
   "cell_type": "code",
   "execution_count": 34,
   "id": "546aa4e0-1f19-4132-bdcd-e6417a6e134f",
   "metadata": {},
   "outputs": [],
   "source": [
    "\n",
    "\n"
   ]
  },
  {
   "cell_type": "code",
   "execution_count": 68,
   "id": "97a39cfe-9822-4d9d-a8c4-7bc18adbd749",
   "metadata": {},
   "outputs": [],
   "source": []
  },
  {
   "cell_type": "code",
   "execution_count": 69,
   "id": "9d03d63b-b27d-4765-b7d1-87fbc743b84f",
   "metadata": {},
   "outputs": [],
   "source": []
  },
  {
   "cell_type": "code",
   "execution_count": null,
   "id": "db6f578f-725e-4578-95a9-25cd148b3e8d",
   "metadata": {},
   "outputs": [],
   "source": []
  }
 ],
 "metadata": {
  "kernelspec": {
   "display_name": "Python 3 (ipykernel)",
   "language": "python",
   "name": "python3"
  },
  "language_info": {
   "codemirror_mode": {
    "name": "ipython",
    "version": 3
   },
   "file_extension": ".py",
   "mimetype": "text/x-python",
   "name": "python",
   "nbconvert_exporter": "python",
   "pygments_lexer": "ipython3",
   "version": "3.9.13"
  }
 },
 "nbformat": 4,
 "nbformat_minor": 5
}
