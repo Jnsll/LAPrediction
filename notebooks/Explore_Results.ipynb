{
 "cells": [
  {
   "cell_type": "code",
   "execution_count": 10,
   "metadata": {},
   "outputs": [],
   "source": [
    "import pandas as pd\n",
    "\n",
    "\n",
    "df_p =  pd.read_csv(\"/run/media/jnsll/b0417344-c572-4bf5-ac10-c2021d205749/exps_modflops/results/ZLearning/\" + \"Prediction_PMax_SubCatch_Chronicle0_Approx0_K27.32_AllSites_Slope_Elevation_LC_SAR_Area_CV_HV_clean.csv\", sep=\";\")\n",
    "\n",
    "df_crits = pd.read_csv(\"/DATA/These/Projects/LAPrediction/notebooks/data/\" + \"DataInputPred_SUB_clean.csv\", sep=\",\")"
   ]
  },
  {
   "cell_type": "code",
   "execution_count": 6,
   "metadata": {},
   "outputs": [
    {
     "data": {
      "text/html": [
       "<div>\n",
       "<style scoped>\n",
       "    .dataframe tbody tr th:only-of-type {\n",
       "        vertical-align: middle;\n",
       "    }\n",
       "\n",
       "    .dataframe tbody tr th {\n",
       "        vertical-align: top;\n",
       "    }\n",
       "\n",
       "    .dataframe thead th {\n",
       "        text-align: right;\n",
       "    }\n",
       "</style>\n",
       "<table border=\"1\" class=\"dataframe\">\n",
       "  <thead>\n",
       "    <tr style=\"text-align: right;\">\n",
       "      <th></th>\n",
       "      <th>Approx</th>\n",
       "      <th>Chronicle</th>\n",
       "      <th>Test Site</th>\n",
       "      <th>SubCatchment</th>\n",
       "      <th>MSE Test</th>\n",
       "      <th>R2 Test</th>\n",
       "      <th>P Real</th>\n",
       "      <th>P pred</th>\n",
       "    </tr>\n",
       "  </thead>\n",
       "  <tbody>\n",
       "    <tr>\n",
       "      <th>0</th>\n",
       "      <td>0</td>\n",
       "      <td>0</td>\n",
       "      <td>1</td>\n",
       "      <td>1</td>\n",
       "      <td>0.001143</td>\n",
       "      <td>0.723806</td>\n",
       "      <td>75</td>\n",
       "      <td>125</td>\n",
       "    </tr>\n",
       "    <tr>\n",
       "      <th>1</th>\n",
       "      <td>0</td>\n",
       "      <td>0</td>\n",
       "      <td>1</td>\n",
       "      <td>3</td>\n",
       "      <td>0.042894</td>\n",
       "      <td>0.070568</td>\n",
       "      <td>100</td>\n",
       "      <td>125</td>\n",
       "    </tr>\n",
       "    <tr>\n",
       "      <th>2</th>\n",
       "      <td>0</td>\n",
       "      <td>0</td>\n",
       "      <td>1</td>\n",
       "      <td>4</td>\n",
       "      <td>0.175015</td>\n",
       "      <td>-54.706469</td>\n",
       "      <td>75</td>\n",
       "      <td>21</td>\n",
       "    </tr>\n",
       "    <tr>\n",
       "      <th>3</th>\n",
       "      <td>0</td>\n",
       "      <td>0</td>\n",
       "      <td>1</td>\n",
       "      <td>5</td>\n",
       "      <td>0.057168</td>\n",
       "      <td>-2.432934</td>\n",
       "      <td>100</td>\n",
       "      <td>60</td>\n",
       "    </tr>\n",
       "    <tr>\n",
       "      <th>4</th>\n",
       "      <td>0</td>\n",
       "      <td>0</td>\n",
       "      <td>1</td>\n",
       "      <td>6</td>\n",
       "      <td>0.009817</td>\n",
       "      <td>0.780745</td>\n",
       "      <td>100</td>\n",
       "      <td>125</td>\n",
       "    </tr>\n",
       "    <tr>\n",
       "      <th>...</th>\n",
       "      <td>...</td>\n",
       "      <td>...</td>\n",
       "      <td>...</td>\n",
       "      <td>...</td>\n",
       "      <td>...</td>\n",
       "      <td>...</td>\n",
       "      <td>...</td>\n",
       "      <td>...</td>\n",
       "    </tr>\n",
       "    <tr>\n",
       "      <th>111</th>\n",
       "      <td>0</td>\n",
       "      <td>0</td>\n",
       "      <td>29</td>\n",
       "      <td>7</td>\n",
       "      <td>0.599165</td>\n",
       "      <td>-138.605766</td>\n",
       "      <td>90</td>\n",
       "      <td>30</td>\n",
       "    </tr>\n",
       "    <tr>\n",
       "      <th>112</th>\n",
       "      <td>0</td>\n",
       "      <td>0</td>\n",
       "      <td>29</td>\n",
       "      <td>8</td>\n",
       "      <td>0.092725</td>\n",
       "      <td>-92.077258</td>\n",
       "      <td>3652</td>\n",
       "      <td>100</td>\n",
       "    </tr>\n",
       "    <tr>\n",
       "      <th>113</th>\n",
       "      <td>0</td>\n",
       "      <td>0</td>\n",
       "      <td>29</td>\n",
       "      <td>9</td>\n",
       "      <td>0.145128</td>\n",
       "      <td>-6.735319</td>\n",
       "      <td>45</td>\n",
       "      <td>30</td>\n",
       "    </tr>\n",
       "    <tr>\n",
       "      <th>114</th>\n",
       "      <td>0</td>\n",
       "      <td>0</td>\n",
       "      <td>29</td>\n",
       "      <td>10</td>\n",
       "      <td>0.062014</td>\n",
       "      <td>-12.301406</td>\n",
       "      <td>60</td>\n",
       "      <td>50</td>\n",
       "    </tr>\n",
       "    <tr>\n",
       "      <th>115</th>\n",
       "      <td>0</td>\n",
       "      <td>0</td>\n",
       "      <td>29</td>\n",
       "      <td>13</td>\n",
       "      <td>0.013988</td>\n",
       "      <td>-1.956528</td>\n",
       "      <td>75</td>\n",
       "      <td>60</td>\n",
       "    </tr>\n",
       "  </tbody>\n",
       "</table>\n",
       "<p>116 rows × 8 columns</p>\n",
       "</div>"
      ],
      "text/plain": [
       "     Approx  Chronicle  Test Site  SubCatchment  MSE Test     R2 Test  P Real  \\\n",
       "0         0          0          1             1  0.001143    0.723806      75   \n",
       "1         0          0          1             3  0.042894    0.070568     100   \n",
       "2         0          0          1             4  0.175015  -54.706469      75   \n",
       "3         0          0          1             5  0.057168   -2.432934     100   \n",
       "4         0          0          1             6  0.009817    0.780745     100   \n",
       "..      ...        ...        ...           ...       ...         ...     ...   \n",
       "111       0          0         29             7  0.599165 -138.605766      90   \n",
       "112       0          0         29             8  0.092725  -92.077258    3652   \n",
       "113       0          0         29             9  0.145128   -6.735319      45   \n",
       "114       0          0         29            10  0.062014  -12.301406      60   \n",
       "115       0          0         29            13  0.013988   -1.956528      75   \n",
       "\n",
       "     P pred  \n",
       "0       125  \n",
       "1       125  \n",
       "2        21  \n",
       "3        60  \n",
       "4       125  \n",
       "..      ...  \n",
       "111      30  \n",
       "112     100  \n",
       "113      30  \n",
       "114      50  \n",
       "115      60  \n",
       "\n",
       "[116 rows x 8 columns]"
      ]
     },
     "execution_count": 6,
     "metadata": {},
     "output_type": "execute_result"
    }
   ],
   "source": [
    "df_p"
   ]
  },
  {
   "cell_type": "code",
   "execution_count": 11,
   "metadata": {},
   "outputs": [
    {
     "data": {
      "text/html": [
       "<div>\n",
       "<style scoped>\n",
       "    .dataframe tbody tr th:only-of-type {\n",
       "        vertical-align: middle;\n",
       "    }\n",
       "\n",
       "    .dataframe tbody tr th {\n",
       "        vertical-align: top;\n",
       "    }\n",
       "\n",
       "    .dataframe thead th {\n",
       "        text-align: right;\n",
       "    }\n",
       "</style>\n",
       "<table border=\"1\" class=\"dataframe\">\n",
       "  <thead>\n",
       "    <tr style=\"text-align: right;\">\n",
       "      <th></th>\n",
       "      <th>Site</th>\n",
       "      <th>SubCatch</th>\n",
       "      <th>Slope</th>\n",
       "      <th>Elevation</th>\n",
       "      <th>LC</th>\n",
       "      <th>SAR</th>\n",
       "      <th>Area</th>\n",
       "      <th>CV</th>\n",
       "      <th>HV</th>\n",
       "      <th>HError</th>\n",
       "      <th>Rate</th>\n",
       "    </tr>\n",
       "  </thead>\n",
       "  <tbody>\n",
       "    <tr>\n",
       "      <th>0</th>\n",
       "      <td>1</td>\n",
       "      <td>1</td>\n",
       "      <td>1.203898</td>\n",
       "      <td>8.936689</td>\n",
       "      <td>319.676414</td>\n",
       "      <td>1.000254</td>\n",
       "      <td>1648125</td>\n",
       "      <td>167</td>\n",
       "      <td>211</td>\n",
       "      <td>0.000000</td>\n",
       "      <td>1.0</td>\n",
       "    </tr>\n",
       "    <tr>\n",
       "      <th>1</th>\n",
       "      <td>1</td>\n",
       "      <td>1</td>\n",
       "      <td>1.203898</td>\n",
       "      <td>8.936689</td>\n",
       "      <td>319.676414</td>\n",
       "      <td>1.000254</td>\n",
       "      <td>1648125</td>\n",
       "      <td>167</td>\n",
       "      <td>211</td>\n",
       "      <td>NaN</td>\n",
       "      <td>2.0</td>\n",
       "    </tr>\n",
       "    <tr>\n",
       "      <th>2</th>\n",
       "      <td>1</td>\n",
       "      <td>1</td>\n",
       "      <td>1.203898</td>\n",
       "      <td>8.936689</td>\n",
       "      <td>319.676414</td>\n",
       "      <td>1.000254</td>\n",
       "      <td>1648125</td>\n",
       "      <td>167</td>\n",
       "      <td>211</td>\n",
       "      <td>NaN</td>\n",
       "      <td>7.0</td>\n",
       "    </tr>\n",
       "    <tr>\n",
       "      <th>3</th>\n",
       "      <td>1</td>\n",
       "      <td>1</td>\n",
       "      <td>1.203898</td>\n",
       "      <td>8.936689</td>\n",
       "      <td>319.676414</td>\n",
       "      <td>1.000254</td>\n",
       "      <td>1648125</td>\n",
       "      <td>167</td>\n",
       "      <td>211</td>\n",
       "      <td>NaN</td>\n",
       "      <td>15.0</td>\n",
       "    </tr>\n",
       "    <tr>\n",
       "      <th>4</th>\n",
       "      <td>1</td>\n",
       "      <td>1</td>\n",
       "      <td>1.203898</td>\n",
       "      <td>8.936689</td>\n",
       "      <td>319.676414</td>\n",
       "      <td>1.000254</td>\n",
       "      <td>1648125</td>\n",
       "      <td>167</td>\n",
       "      <td>211</td>\n",
       "      <td>0.035656</td>\n",
       "      <td>21.0</td>\n",
       "    </tr>\n",
       "    <tr>\n",
       "      <th>...</th>\n",
       "      <td>...</td>\n",
       "      <td>...</td>\n",
       "      <td>...</td>\n",
       "      <td>...</td>\n",
       "      <td>...</td>\n",
       "      <td>...</td>\n",
       "      <td>...</td>\n",
       "      <td>...</td>\n",
       "      <td>...</td>\n",
       "      <td>...</td>\n",
       "      <td>...</td>\n",
       "    </tr>\n",
       "    <tr>\n",
       "      <th>6805</th>\n",
       "      <td>40</td>\n",
       "      <td>15</td>\n",
       "      <td>8.875044</td>\n",
       "      <td>224.490265</td>\n",
       "      <td>933.385135</td>\n",
       "      <td>1.006683</td>\n",
       "      <td>4387500</td>\n",
       "      <td>0</td>\n",
       "      <td>12</td>\n",
       "      <td>NaN</td>\n",
       "      <td>NaN</td>\n",
       "    </tr>\n",
       "    <tr>\n",
       "      <th>6806</th>\n",
       "      <td>40</td>\n",
       "      <td>16</td>\n",
       "      <td>6.585227</td>\n",
       "      <td>178.075058</td>\n",
       "      <td>700.135624</td>\n",
       "      <td>1.003876</td>\n",
       "      <td>2930625</td>\n",
       "      <td>0</td>\n",
       "      <td>20</td>\n",
       "      <td>NaN</td>\n",
       "      <td>NaN</td>\n",
       "    </tr>\n",
       "    <tr>\n",
       "      <th>6807</th>\n",
       "      <td>40</td>\n",
       "      <td>17</td>\n",
       "      <td>5.182087</td>\n",
       "      <td>173.802765</td>\n",
       "      <td>685.592278</td>\n",
       "      <td>1.002990</td>\n",
       "      <td>3661875</td>\n",
       "      <td>0</td>\n",
       "      <td>34</td>\n",
       "      <td>NaN</td>\n",
       "      <td>NaN</td>\n",
       "    </tr>\n",
       "    <tr>\n",
       "      <th>6808</th>\n",
       "      <td>40</td>\n",
       "      <td>18</td>\n",
       "      <td>4.617903</td>\n",
       "      <td>196.079285</td>\n",
       "      <td>597.577939</td>\n",
       "      <td>1.002033</td>\n",
       "      <td>5023125</td>\n",
       "      <td>0</td>\n",
       "      <td>68</td>\n",
       "      <td>NaN</td>\n",
       "      <td>NaN</td>\n",
       "    </tr>\n",
       "    <tr>\n",
       "      <th>6809</th>\n",
       "      <td>40</td>\n",
       "      <td>19</td>\n",
       "      <td>2.886285</td>\n",
       "      <td>115.072578</td>\n",
       "      <td>1073.758334</td>\n",
       "      <td>1.000678</td>\n",
       "      <td>697500</td>\n",
       "      <td>0</td>\n",
       "      <td>14</td>\n",
       "      <td>NaN</td>\n",
       "      <td>NaN</td>\n",
       "    </tr>\n",
       "  </tbody>\n",
       "</table>\n",
       "<p>6810 rows × 11 columns</p>\n",
       "</div>"
      ],
      "text/plain": [
       "      Site  SubCatch     Slope   Elevation           LC       SAR     Area  \\\n",
       "0        1         1  1.203898    8.936689   319.676414  1.000254  1648125   \n",
       "1        1         1  1.203898    8.936689   319.676414  1.000254  1648125   \n",
       "2        1         1  1.203898    8.936689   319.676414  1.000254  1648125   \n",
       "3        1         1  1.203898    8.936689   319.676414  1.000254  1648125   \n",
       "4        1         1  1.203898    8.936689   319.676414  1.000254  1648125   \n",
       "...    ...       ...       ...         ...          ...       ...      ...   \n",
       "6805    40        15  8.875044  224.490265   933.385135  1.006683  4387500   \n",
       "6806    40        16  6.585227  178.075058   700.135624  1.003876  2930625   \n",
       "6807    40        17  5.182087  173.802765   685.592278  1.002990  3661875   \n",
       "6808    40        18  4.617903  196.079285   597.577939  1.002033  5023125   \n",
       "6809    40        19  2.886285  115.072578  1073.758334  1.000678   697500   \n",
       "\n",
       "       CV   HV    HError  Rate  \n",
       "0     167  211  0.000000   1.0  \n",
       "1     167  211       NaN   2.0  \n",
       "2     167  211       NaN   7.0  \n",
       "3     167  211       NaN  15.0  \n",
       "4     167  211  0.035656  21.0  \n",
       "...   ...  ...       ...   ...  \n",
       "6805    0   12       NaN   NaN  \n",
       "6806    0   20       NaN   NaN  \n",
       "6807    0   34       NaN   NaN  \n",
       "6808    0   68       NaN   NaN  \n",
       "6809    0   14       NaN   NaN  \n",
       "\n",
       "[6810 rows x 11 columns]"
      ]
     },
     "execution_count": 11,
     "metadata": {},
     "output_type": "execute_result"
    }
   ],
   "source": [
    "df_crits"
   ]
  },
  {
   "cell_type": "code",
   "execution_count": 28,
   "metadata": {},
   "outputs": [],
   "source": [
    "diff_p_list = []\n",
    "areas = []\n",
    "slopes = []\n",
    "elevations = []\n",
    "lcs = []\n",
    "cvs = []\n",
    "hvs = []\n",
    "sars = []\n",
    "\n",
    "for row in range(len(df_p)):\n",
    "\n",
    "    p_real = df_p.iloc[row, 6]\n",
    "    p_pred = df_p.iloc[row, 7]\n",
    "    diff_p = abs(p_pred-p_real)\n",
    "\n",
    "    site = df_p.iloc[row, 2]\n",
    "    subcatch = df_p.iloc[row, 3]\n",
    "#& df_crits[\"SubCatch\"]== subcatch\n",
    "\n",
    "    df_site = df_crits.loc[df_crits[\"Site\"]== site]\n",
    "\n",
    "    df_site_sub = df_site.loc[df_site[\"SubCatch\"]== subcatch]\n",
    "    area = df_site_sub.iloc[0, 6]\n",
    "    \n",
    "    \n",
    "    diff_p_list.append(diff_p)\n",
    "    areas.append(area)\n",
    "    slopes.append(df_site_sub.iloc[0, 2])\n",
    "    elevations.append(df_site_sub.iloc[0, 3])\n",
    "    lcs.append(df_site_sub.iloc[0, 4])\n",
    "    sars.append(df_site_sub.iloc[0, 5])\n",
    "    cvs.append(df_site_sub.iloc[0, 7])\n",
    "    hvs.append(df_site_sub.iloc[0, 8])\n",
    "\n",
    "\n",
    "\n"
   ]
  },
  {
   "cell_type": "code",
   "execution_count": 37,
   "metadata": {},
   "outputs": [],
   "source": [
    "def get_crits_for_subcat(site, subcatch):\n",
    "    df_site = df_crits.loc[df_crits[\"Site\"]== site]\n",
    "    df_site_sub = df_site.loc[df_site[\"SubCatch\"]== subcatch]\n",
    "    area = df_site_sub.iloc[0, 6]\n",
    "    slope = df_site_sub.iloc[0, 2]\n",
    "    elevation = df_site_sub.iloc[0, 3]\n",
    "    lc = df_site_sub.iloc[0, 4]\n",
    "    sar = df_site_sub.iloc[0, 5]\n",
    "    cv = df_site_sub.iloc[0, 7]\n",
    "    hv = df_site_sub.iloc[0, 8]\n",
    "    print(slope, elevation, lc, sar, area, cv,hv)"
   ]
  },
  {
   "cell_type": "code",
   "execution_count": 38,
   "metadata": {},
   "outputs": [
    {
     "name": "stdout",
     "output_type": "stream",
     "text": [
      "2.44796347618103 27.6563262939453 672.323890208827 1.00101029872894 2250000 97 112\n",
      "3.30219411849976 44.9010391235352 633.85467537457 1.00113236904144 1569375 0 96\n",
      "1.17260205745697 8.39449977874756 479.24708370836 1.00023436546326 1012500 120 95\n"
     ]
    }
   ],
   "source": [
    "get_crits_for_subcat(2, 3)\n",
    "get_crits_for_subcat(8, 3)\n",
    "get_crits_for_subcat(11, 10)\n"
   ]
  },
  {
   "cell_type": "code",
   "execution_count": null,
   "metadata": {},
   "outputs": [],
   "source": []
  },
  {
   "cell_type": "code",
   "execution_count": null,
   "metadata": {},
   "outputs": [],
   "source": []
  },
  {
   "cell_type": "code",
   "execution_count": null,
   "metadata": {},
   "outputs": [],
   "source": []
  },
  {
   "cell_type": "code",
   "execution_count": 9,
   "metadata": {},
   "outputs": [
    {
     "data": {
      "text/plain": [
       "(75, 125)"
      ]
     },
     "execution_count": 9,
     "metadata": {},
     "output_type": "execute_result"
    }
   ],
   "source": [
    "p_real, p_pred"
   ]
  },
  {
   "cell_type": "code",
   "execution_count": 27,
   "metadata": {},
   "outputs": [
    {
     "data": {
      "text/plain": [
       "[<matplotlib.lines.Line2D at 0x7f3cca1767c0>]"
      ]
     },
     "execution_count": 27,
     "metadata": {},
     "output_type": "execute_result"
    },
    {
     "data": {
      "image/png": "[encoded data removed]",
      "text/plain": [
       "<Figure size 432x288 with 1 Axes>"
      ]
     },
     "metadata": {
      "needs_background": "light"
     },
     "output_type": "display_data"
    }
   ],
   "source": [
    "import matplotlib.pyplot as plt\n",
    "\n",
    "plt.figure()\n",
    "\n",
    "plt.plot(areas, diff_p_list, \"o\")\n",
    "\n"
   ]
  },
  {
   "cell_type": "code",
   "execution_count": 29,
   "metadata": {},
   "outputs": [
    {
     "data": {
      "text/plain": [
       "[<matplotlib.lines.Line2D at 0x7f3cca12a700>]"
      ]
     },
     "execution_count": 29,
     "metadata": {},
     "output_type": "execute_result"
    },
    {
     "data": {
      "image/png": "[encoded data removed]",
      "text/plain": [
       "<Figure size 432x288 with 1 Axes>"
      ]
     },
     "metadata": {
      "needs_background": "light"
     },
     "output_type": "display_data"
    }
   ],
   "source": [
    "plt.figure()\n",
    "plt.plot(slopes, diff_p_list, \"o\")"
   ]
  },
  {
   "cell_type": "code",
   "execution_count": 30,
   "metadata": {},
   "outputs": [
    {
     "data": {
      "text/plain": [
       "[<matplotlib.lines.Line2D at 0x7f3cca0d7a60>]"
      ]
     },
     "execution_count": 30,
     "metadata": {},
     "output_type": "execute_result"
    },
    {
     "data": {
      "image/png": "[encoded data removed]",
      "text/plain": [
       "<Figure size 432x288 with 1 Axes>"
      ]
     },
     "metadata": {
      "needs_background": "light"
     },
     "output_type": "display_data"
    }
   ],
   "source": [
    "plt.figure()\n",
    "plt.plot(elevations, diff_p_list, \"o\")"
   ]
  },
  {
   "cell_type": "code",
   "execution_count": 31,
   "metadata": {},
   "outputs": [
    {
     "data": {
      "text/plain": [
       "[<matplotlib.lines.Line2D at 0x7f3cca01b970>]"
      ]
     },
     "execution_count": 31,
     "metadata": {},
     "output_type": "execute_result"
    },
    {
     "data": {
      "image/png": "[encoded data removed]",
      "text/plain": [
       "<Figure size 432x288 with 1 Axes>"
      ]
     },
     "metadata": {
      "needs_background": "light"
     },
     "output_type": "display_data"
    }
   ],
   "source": [
    "plt.figure()\n",
    "plt.plot(sars, diff_p_list, \"o\")"
   ]
  },
  {
   "cell_type": "code",
   "execution_count": 32,
   "metadata": {},
   "outputs": [
    {
     "data": {
      "text/plain": [
       "[<matplotlib.lines.Line2D at 0x7f3cc9f7d130>]"
      ]
     },
     "execution_count": 32,
     "metadata": {},
     "output_type": "execute_result"
    },
    {
     "data": {
      "image/png": "[encoded data removed]",
      "text/plain": [
       "<Figure size 432x288 with 1 Axes>"
      ]
     },
     "metadata": {
      "needs_background": "light"
     },
     "output_type": "display_data"
    }
   ],
   "source": [
    "plt.figure()\n",
    "plt.plot(cvs, diff_p_list, \"o\")"
   ]
  },
  {
   "cell_type": "code",
   "execution_count": 33,
   "metadata": {},
   "outputs": [
    {
     "data": {
      "text/plain": [
       "[<matplotlib.lines.Line2D at 0x7f3cc9f49d90>]"
      ]
     },
     "execution_count": 33,
     "metadata": {},
     "output_type": "execute_result"
    },
    {
     "data": {
      "image/png": "[encoded data removed]",
      "text/plain": [
       "<Figure size 432x288 with 1 Axes>"
      ]
     },
     "metadata": {
      "needs_background": "light"
     },
     "output_type": "display_data"
    }
   ],
   "source": [
    "plt.figure()\n",
    "plt.plot(hvs, diff_p_list, \"o\")"
   ]
  },
  {
   "cell_type": "code",
   "execution_count": 34,
   "metadata": {},
   "outputs": [
    {
     "data": {
      "text/plain": [
       "[<matplotlib.lines.Line2D at 0x7f3cc9f25a60>]"
      ]
     },
     "execution_count": 34,
     "metadata": {},
     "output_type": "execute_result"
    },
    {
     "data": {
      "image/png": "[encoded data removed]",
      "text/plain": [
       "<Figure size 432x288 with 1 Axes>"
      ]
     },
     "metadata": {
      "needs_background": "light"
     },
     "output_type": "display_data"
    }
   ],
   "source": [
    "plt.figure()\n",
    "plt.plot(lcs, diff_p_list, \"o\")"
   ]
  },
  {
   "cell_type": "code",
   "execution_count": null,
   "metadata": {},
   "outputs": [],
   "source": []
  }
 ],
 "metadata": {
  "kernelspec": {
   "display_name": "Python 3",
   "language": "python",
   "name": "python3"
  },
  "language_info": {
   "codemirror_mode": {
    "name": "ipython",
    "version": 3
   },
   "file_extension": ".py",
   "mimetype": "text/x-python",
   "name": "python",
   "nbconvert_exporter": "python",
   "pygments_lexer": "ipython3",
   "version": "3.9.1"
  }
 },
 "nbformat": 4,
 "nbformat_minor": 4
}
