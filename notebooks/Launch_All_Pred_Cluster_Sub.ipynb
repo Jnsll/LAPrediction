{
 "cells": [
  {
   "cell_type": "code",
   "execution_count": 2,
   "metadata": {},
   "outputs": [],
   "source": [
    "import concat_pred_cluster as concat\n",
    "import predByCluster as pred\n",
    "import clustering as cluster\n",
    "\n",
    "def clustering_pred_and_concat_for_a_number_of_cluster(nb_clusters):\n",
    "    cluster.clustering(nb_clusters)\n",
    "    for site_number in range(1,41):\n",
    "        print(\"site n°\", site_number)\n",
    "        for subcatch_test in range(1,31):\n",
    "            try :\n",
    "                pred.all_pred_by_cluster(site_number, subcatch_test, nb_clusters, std=False)\n",
    "                pred.all_pred_by_cluster(site_number, subcatch_test, nb_clusters, std=True)\n",
    "            except:\n",
    "                continue\n",
    "    # Concat Pred\n",
    "    concat.concat_prediction_pmax_results_with_subcatchment_for_all_sites_by_cluster(nb_clusters, std=True)\n",
    "    concat.concat_prediction_HError_results_with_subcatchment_for_all_sites_by_cluster(nb_clusters, std=True)\n",
    "    concat.concat_prediction_pmax_results_with_subcatchment_for_all_sites_by_cluster(nb_clusters, std=False)\n",
    "    concat.concat_prediction_HError_results_with_subcatchment_for_all_sites_by_cluster(nb_clusters, std=False)"
   ]
  },
  {
   "cell_type": "code",
   "execution_count": null,
   "metadata": {},
   "outputs": [],
   "source": [
    "clustering_pred_and_concat_for_a_number_of_cluster(5, std=True)"
   ]
  },
  {
   "cell_type": "code",
   "execution_count": null,
   "metadata": {},
   "outputs": [],
   "source": []
  }
 ],
 "metadata": {
  "kernelspec": {
   "display_name": "Python 3",
   "language": "python",
   "name": "python3"
  },
  "language_info": {
   "codemirror_mode": {
    "name": "ipython",
    "version": 3
   },
   "file_extension": ".py",
   "mimetype": "text/x-python",
   "name": "python",
   "nbconvert_exporter": "python",
   "pygments_lexer": "ipython3",
   "version": "3.9.1"
  }
 },
 "nbformat": 4,
 "nbformat_minor": 4
}
