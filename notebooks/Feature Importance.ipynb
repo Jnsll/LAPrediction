{
 "cells": [
  {
   "cell_type": "code",
   "execution_count": 63,
   "metadata": {},
   "outputs": [],
   "source": [
    "import pandas as pd\n",
    "import prediction_of_H_indicator_with_subCatchmentData as prediction\n",
    "import numpy as np\n",
    "import matplotlib.pyplot as plt\n",
    "%matplotlib inline"
   ]
  },
  {
   "cell_type": "code",
   "execution_count": 67,
   "metadata": {},
   "outputs": [],
   "source": [
    "def get_features_imp_for_a_site_and_all_subcatchs(site_number, nb_clusters=1, approx=0, chronicle=0, permeability=27.32):\n",
    "\n",
    "    imp_features_df_all = pd.DataFrame(columns=[\"Approx\",\n",
    "                \"Chronicle\",\n",
    "                \"Test Site\",\n",
    "                \"SubCatchment\",\n",
    "                \"Feature\",\n",
    "                \"ImportanceValue\",\n",
    "                \"ImportanceRank\"])\n",
    "    for subcatch_number in range(1, 40):\n",
    "        MYDIR = (\n",
    "            \"output\"\n",
    "            + \"/\"\n",
    "            + \"Approx\"\n",
    "            + str(approx)\n",
    "            + \"/Chronicle\"\n",
    "            + str(chronicle)\n",
    "            + \"/SiteTest\"\n",
    "            + str(site_number)\n",
    "        )\n",
    "        file = (MYDIR\n",
    "        + \"/\"\n",
    "        + \"Feature_Importance\"\n",
    "        + \"_Site\"\n",
    "        + str(site_number)\n",
    "        + \"_SubCatch\"\n",
    "        + str(subcatch_number)\n",
    "        +\"_Chronicle\"\n",
    "        + str(chronicle)\n",
    "        + \"_Approx\"\n",
    "        + str(approx)\n",
    "        + \"_K\"\n",
    "        + str(permeability)\n",
    "        + \"_Slope_Elevation_LC_SAR_Area_HV\" #_CV_HV\n",
    "        + \"Clusters\" + str(nb_clusters) + \"_clean.csv\")\n",
    "        try:\n",
    "            imp_sub = pd.read_csv(file, sep=\";\")\n",
    "            imp_features_df_all = pd.concat([imp_features_df_all, imp_sub])\n",
    "        except:\n",
    "            continue\n",
    "    #print(imp_features_df_all)\n",
    "    \n",
    "    out_file =(\"Feature_Importance\" + \"_Site\"\n",
    "        + str(site_number)\n",
    "        + \"_All_SubCatchs\"\n",
    "        +\"_Chronicle\"\n",
    "        + str(chronicle)\n",
    "        + \"_Approx\"\n",
    "        + str(approx)\n",
    "        + \"_K\"\n",
    "        + str(permeability)\n",
    "        + \"_Slope_Elevation_LC_SAR_Area_HV\" #_CV_HV\n",
    "        + \"Clusters\" + str(nb_clusters) + \"_clean.csv\")\n",
    "    imp_features_df_all.to_csv(MYDIR + \"/\" + out_file, sep=\";\", index=False)\n",
    "    return imp_features_df_all"
   ]
  },
  {
   "cell_type": "code",
   "execution_count": 73,
   "metadata": {},
   "outputs": [
    {
     "name": "stdout",
     "output_type": "stream",
     "text": [
      "Finished.\n"
     ]
    }
   ],
   "source": [
    "for site in range(1, 41):\n",
    "    try:\n",
    "        get_features_imp_for_a_site_and_all_subcatchs(site)\n",
    "    except:\n",
    "        continue\n",
    "print(\"Finished.\")"
   ]
  },
  {
   "cell_type": "code",
   "execution_count": 69,
   "metadata": {},
   "outputs": [],
   "source": [
    "\n",
    "\n",
    "def concat_imp_for_all_sites_all_subcatchs(nb_clusters=1, approx=0, chronicle=0, permeability=27.32):\n",
    "    imp_features_df_all_sites = pd.DataFrame(columns=[\"Approx\",\n",
    "                \"Chronicle\",\n",
    "                \"Test Site\",\n",
    "                \"SubCatchment\",\n",
    "                \"Feature\",\n",
    "                \"ImportanceValue\",\n",
    "                \"ImportanceRank\"])\n",
    "    \n",
    "    \n",
    "    for site_number in range(1,41):\n",
    "    \n",
    "        MYDIR = (\n",
    "            \"output\"\n",
    "            + \"/\"\n",
    "            + \"Approx\"\n",
    "            + str(approx)\n",
    "            + \"/Chronicle\"\n",
    "            + str(chronicle)\n",
    "            + \"/SiteTest\"\n",
    "            + str(site_number)\n",
    "        )\n",
    "        file = (\"Feature_Importance\" + \"_Site\"\n",
    "        + str(site_number)\n",
    "        + \"_All_SubCatchs\"\n",
    "        +\"_Chronicle\"\n",
    "        + str(chronicle)\n",
    "        + \"_Approx\"\n",
    "        + str(approx)\n",
    "        + \"_K\"\n",
    "        + str(permeability)\n",
    "        + \"_Slope_Elevation_LC_SAR_Area_HV\" #_CV_HV\n",
    "        + \"Clusters\" + str(nb_clusters) + \"_clean.csv\")\n",
    "        try:\n",
    "            imp_for_a_site = pd.read_csv(MYDIR + \"/\" + file, sep=\";\")\n",
    "            imp_features_df_all_sites = pd.concat([imp_features_df_all_sites,imp_for_a_site])\n",
    "        except:\n",
    "            continue\n",
    "    out_file = (\"Feature_Importance\" + \"_All_Site\"\n",
    "        + \"_All_SubCatchs\"\n",
    "        +\"_Chronicle\"\n",
    "        + str(chronicle)\n",
    "        + \"_Approx\"\n",
    "        + str(approx)\n",
    "        + \"_K\"\n",
    "        + str(permeability)\n",
    "        + \"_Slope_Elevation_LC_SAR_Area_HV\"\n",
    "        + \"Clusters\" + str(nb_clusters) + \"_clean.csv\"\n",
    "    )\n",
    "    imp_features_df_all_sites.to_csv(\"output\" + \"/\" + out_file, sep=\";\", index=False)\n",
    "    print(\"Concatenation finished.\")\n",
    "    return imp_features_df_all_sites"
   ]
  },
  {
   "cell_type": "code",
   "execution_count": 74,
   "metadata": {},
   "outputs": [
    {
     "name": "stdout",
     "output_type": "stream",
     "text": [
      "Concatenation finished.\n"
     ]
    }
   ],
   "source": [
    "imp_features_df_all_sites = concat_imp_for_all_sites_all_subcatchs()"
   ]
  },
  {
   "cell_type": "code",
   "execution_count": 75,
   "metadata": {},
   "outputs": [
    {
     "data": {
      "text/html": [
       "<div>\n",
       "<style scoped>\n",
       "    .dataframe tbody tr th:only-of-type {\n",
       "        vertical-align: middle;\n",
       "    }\n",
       "\n",
       "    .dataframe tbody tr th {\n",
       "        vertical-align: top;\n",
       "    }\n",
       "\n",
       "    .dataframe thead th {\n",
       "        text-align: right;\n",
       "    }\n",
       "</style>\n",
       "<table border=\"1\" class=\"dataframe\">\n",
       "  <thead>\n",
       "    <tr style=\"text-align: right;\">\n",
       "      <th></th>\n",
       "      <th>Approx</th>\n",
       "      <th>Chronicle</th>\n",
       "      <th>Test Site</th>\n",
       "      <th>SubCatchment</th>\n",
       "      <th>Feature</th>\n",
       "      <th>ImportanceValue</th>\n",
       "      <th>ImportanceRank</th>\n",
       "    </tr>\n",
       "  </thead>\n",
       "  <tbody>\n",
       "    <tr>\n",
       "      <th>0</th>\n",
       "      <td>0</td>\n",
       "      <td>0</td>\n",
       "      <td>1</td>\n",
       "      <td>1</td>\n",
       "      <td>Elevation</td>\n",
       "      <td>0.286012</td>\n",
       "      <td>1</td>\n",
       "    </tr>\n",
       "    <tr>\n",
       "      <th>1</th>\n",
       "      <td>0</td>\n",
       "      <td>0</td>\n",
       "      <td>1</td>\n",
       "      <td>1</td>\n",
       "      <td>Rate</td>\n",
       "      <td>0.259693</td>\n",
       "      <td>2</td>\n",
       "    </tr>\n",
       "    <tr>\n",
       "      <th>2</th>\n",
       "      <td>0</td>\n",
       "      <td>0</td>\n",
       "      <td>1</td>\n",
       "      <td>1</td>\n",
       "      <td>LC</td>\n",
       "      <td>0.169171</td>\n",
       "      <td>3</td>\n",
       "    </tr>\n",
       "    <tr>\n",
       "      <th>3</th>\n",
       "      <td>0</td>\n",
       "      <td>0</td>\n",
       "      <td>1</td>\n",
       "      <td>1</td>\n",
       "      <td>SAR</td>\n",
       "      <td>0.082460</td>\n",
       "      <td>4</td>\n",
       "    </tr>\n",
       "    <tr>\n",
       "      <th>4</th>\n",
       "      <td>0</td>\n",
       "      <td>0</td>\n",
       "      <td>1</td>\n",
       "      <td>1</td>\n",
       "      <td>Area</td>\n",
       "      <td>0.081060</td>\n",
       "      <td>5</td>\n",
       "    </tr>\n",
       "    <tr>\n",
       "      <th>...</th>\n",
       "      <td>...</td>\n",
       "      <td>...</td>\n",
       "      <td>...</td>\n",
       "      <td>...</td>\n",
       "      <td>...</td>\n",
       "      <td>...</td>\n",
       "      <td>...</td>\n",
       "    </tr>\n",
       "    <tr>\n",
       "      <th>51</th>\n",
       "      <td>0</td>\n",
       "      <td>0</td>\n",
       "      <td>25</td>\n",
       "      <td>8</td>\n",
       "      <td>LC</td>\n",
       "      <td>0.172590</td>\n",
       "      <td>3</td>\n",
       "    </tr>\n",
       "    <tr>\n",
       "      <th>52</th>\n",
       "      <td>0</td>\n",
       "      <td>0</td>\n",
       "      <td>25</td>\n",
       "      <td>8</td>\n",
       "      <td>SAR</td>\n",
       "      <td>0.087187</td>\n",
       "      <td>4</td>\n",
       "    </tr>\n",
       "    <tr>\n",
       "      <th>53</th>\n",
       "      <td>0</td>\n",
       "      <td>0</td>\n",
       "      <td>25</td>\n",
       "      <td>8</td>\n",
       "      <td>Area</td>\n",
       "      <td>0.079414</td>\n",
       "      <td>5</td>\n",
       "    </tr>\n",
       "    <tr>\n",
       "      <th>54</th>\n",
       "      <td>0</td>\n",
       "      <td>0</td>\n",
       "      <td>25</td>\n",
       "      <td>8</td>\n",
       "      <td>Slope</td>\n",
       "      <td>0.065877</td>\n",
       "      <td>6</td>\n",
       "    </tr>\n",
       "    <tr>\n",
       "      <th>55</th>\n",
       "      <td>0</td>\n",
       "      <td>0</td>\n",
       "      <td>25</td>\n",
       "      <td>8</td>\n",
       "      <td>HV</td>\n",
       "      <td>0.050184</td>\n",
       "      <td>7</td>\n",
       "    </tr>\n",
       "  </tbody>\n",
       "</table>\n",
       "<p>959 rows × 7 columns</p>\n",
       "</div>"
      ],
      "text/plain": [
       "   Approx Chronicle Test Site SubCatchment    Feature  ImportanceValue  \\\n",
       "0       0         0         1            1  Elevation         0.286012   \n",
       "1       0         0         1            1       Rate         0.259693   \n",
       "2       0         0         1            1         LC         0.169171   \n",
       "3       0         0         1            1        SAR         0.082460   \n",
       "4       0         0         1            1       Area         0.081060   \n",
       "..    ...       ...       ...          ...        ...              ...   \n",
       "51      0         0        25            8         LC         0.172590   \n",
       "52      0         0        25            8        SAR         0.087187   \n",
       "53      0         0        25            8       Area         0.079414   \n",
       "54      0         0        25            8      Slope         0.065877   \n",
       "55      0         0        25            8         HV         0.050184   \n",
       "\n",
       "   ImportanceRank  \n",
       "0               1  \n",
       "1               2  \n",
       "2               3  \n",
       "3               4  \n",
       "4               5  \n",
       "..            ...  \n",
       "51              3  \n",
       "52              4  \n",
       "53              5  \n",
       "54              6  \n",
       "55              7  \n",
       "\n",
       "[959 rows x 7 columns]"
      ]
     },
     "execution_count": 75,
     "metadata": {},
     "output_type": "execute_result"
    }
   ],
   "source": [
    "imp_features_df_all_sites"
   ]
  },
  {
   "cell_type": "code",
   "execution_count": 76,
   "metadata": {},
   "outputs": [
    {
     "data": {
      "image/png": "[encoded data removed]",
      "text/plain": [
       "<Figure size 432x288 with 1 Axes>"
      ]
     },
     "metadata": {
      "needs_background": "light"
     },
     "output_type": "display_data"
    },
    {
     "data": {
      "image/png": "[encoded data removed]",
      "text/plain": [
       "<Figure size 432x288 with 1 Axes>"
      ]
     },
     "metadata": {
      "needs_background": "light"
     },
     "output_type": "display_data"
    },
    {
     "data": {
      "image/png": "[encoded data removed]",
      "text/plain": [
       "<Figure size 432x288 with 1 Axes>"
      ]
     },
     "metadata": {
      "needs_background": "light"
     },
     "output_type": "display_data"
    },
    {
     "data": {
      "image/png": "[encoded data removed]",
      "text/plain": [
       "<Figure size 432x288 with 1 Axes>"
      ]
     },
     "metadata": {
      "needs_background": "light"
     },
     "output_type": "display_data"
    },
    {
     "data": {
      "image/png": "[encoded data removed]",
      "text/plain": [
       "<Figure size 432x288 with 1 Axes>"
      ]
     },
     "metadata": {
      "needs_background": "light"
     },
     "output_type": "display_data"
    },
    {
     "data": {
      "image/png": "[encoded data removed]",
      "text/plain": [
       "<Figure size 432x288 with 1 Axes>"
      ]
     },
     "metadata": {
      "needs_background": "light"
     },
     "output_type": "display_data"
    },
    {
     "data": {
      "image/png": "[encoded data removed]",
      "text/plain": [
       "<Figure size 432x288 with 1 Axes>"
      ]
     },
     "metadata": {
      "needs_background": "light"
     },
     "output_type": "display_data"
    }
   ],
   "source": [
    "for feature in [\"Elevation\", \"Slope\", \"Rate\", \"HV\", \"SAR\", \"Area\", \"LC\"]: #\"CV\",\n",
    "    df_feature = imp_features_df_all_sites.loc[imp_features_df_all_sites[\"Feature\"] == feature]\n",
    "    df_feature.hist()\n",
    "    plt.savefig(\"output/\" + \"Histo_ImpValue_No_CV_Feature_\" + str(feature) + \".jpg\")\n",
    "    d = df_feature.groupby('ImportanceRank').count()[\"Feature\"]\n",
    "    ax = d.plot(kind='bar')\n",
    "    for p in ax.patches:\n",
    "        ax.annotate(str(p.get_height()), (p.get_x() * 1.005, p.get_height() * 1.005))\n",
    "    plt.savefig(\"output/\" + \"Histo_ImpRank_No_CV_Feature_\" + str(feature) + \".jpg\")"
   ]
  },
  {
   "cell_type": "code",
   "execution_count": 8,
   "metadata": {},
   "outputs": [
    {
     "data": {
      "text/html": [
       "<div>\n",
       "<style scoped>\n",
       "    .dataframe tbody tr th:only-of-type {\n",
       "        vertical-align: middle;\n",
       "    }\n",
       "\n",
       "    .dataframe tbody tr th {\n",
       "        vertical-align: top;\n",
       "    }\n",
       "\n",
       "    .dataframe thead th {\n",
       "        text-align: right;\n",
       "    }\n",
       "</style>\n",
       "<table border=\"1\" class=\"dataframe\">\n",
       "  <thead>\n",
       "    <tr style=\"text-align: right;\">\n",
       "      <th></th>\n",
       "      <th>Approx</th>\n",
       "      <th>Chronicle</th>\n",
       "      <th>Test Site</th>\n",
       "      <th>SubCatchment</th>\n",
       "      <th>Feature</th>\n",
       "      <th>ImportanceValue</th>\n",
       "      <th>ImportanceRank</th>\n",
       "    </tr>\n",
       "  </thead>\n",
       "  <tbody>\n",
       "    <tr>\n",
       "      <th>0</th>\n",
       "      <td>0</td>\n",
       "      <td>0</td>\n",
       "      <td>1</td>\n",
       "      <td>1</td>\n",
       "      <td>Elevation</td>\n",
       "      <td>0.280166</td>\n",
       "      <td>1</td>\n",
       "    </tr>\n",
       "    <tr>\n",
       "      <th>8</th>\n",
       "      <td>0</td>\n",
       "      <td>0</td>\n",
       "      <td>1</td>\n",
       "      <td>3</td>\n",
       "      <td>Elevation</td>\n",
       "      <td>0.280720</td>\n",
       "      <td>1</td>\n",
       "    </tr>\n",
       "    <tr>\n",
       "      <th>16</th>\n",
       "      <td>0</td>\n",
       "      <td>0</td>\n",
       "      <td>1</td>\n",
       "      <td>4</td>\n",
       "      <td>Elevation</td>\n",
       "      <td>0.275504</td>\n",
       "      <td>1</td>\n",
       "    </tr>\n",
       "    <tr>\n",
       "      <th>24</th>\n",
       "      <td>0</td>\n",
       "      <td>0</td>\n",
       "      <td>1</td>\n",
       "      <td>5</td>\n",
       "      <td>Elevation</td>\n",
       "      <td>0.280081</td>\n",
       "      <td>1</td>\n",
       "    </tr>\n",
       "    <tr>\n",
       "      <th>32</th>\n",
       "      <td>0</td>\n",
       "      <td>0</td>\n",
       "      <td>1</td>\n",
       "      <td>6</td>\n",
       "      <td>Elevation</td>\n",
       "      <td>0.278443</td>\n",
       "      <td>1</td>\n",
       "    </tr>\n",
       "    <tr>\n",
       "      <th>...</th>\n",
       "      <td>...</td>\n",
       "      <td>...</td>\n",
       "      <td>...</td>\n",
       "      <td>...</td>\n",
       "      <td>...</td>\n",
       "      <td>...</td>\n",
       "      <td>...</td>\n",
       "    </tr>\n",
       "    <tr>\n",
       "      <th>16</th>\n",
       "      <td>0</td>\n",
       "      <td>0</td>\n",
       "      <td>39</td>\n",
       "      <td>4</td>\n",
       "      <td>Elevation</td>\n",
       "      <td>0.278562</td>\n",
       "      <td>1</td>\n",
       "    </tr>\n",
       "    <tr>\n",
       "      <th>24</th>\n",
       "      <td>0</td>\n",
       "      <td>0</td>\n",
       "      <td>39</td>\n",
       "      <td>5</td>\n",
       "      <td>Elevation</td>\n",
       "      <td>0.278337</td>\n",
       "      <td>1</td>\n",
       "    </tr>\n",
       "    <tr>\n",
       "      <th>32</th>\n",
       "      <td>0</td>\n",
       "      <td>0</td>\n",
       "      <td>39</td>\n",
       "      <td>7</td>\n",
       "      <td>Elevation</td>\n",
       "      <td>0.278231</td>\n",
       "      <td>1</td>\n",
       "    </tr>\n",
       "    <tr>\n",
       "      <th>40</th>\n",
       "      <td>0</td>\n",
       "      <td>0</td>\n",
       "      <td>39</td>\n",
       "      <td>8</td>\n",
       "      <td>Elevation</td>\n",
       "      <td>0.278535</td>\n",
       "      <td>1</td>\n",
       "    </tr>\n",
       "    <tr>\n",
       "      <th>48</th>\n",
       "      <td>0</td>\n",
       "      <td>0</td>\n",
       "      <td>39</td>\n",
       "      <td>9</td>\n",
       "      <td>Elevation</td>\n",
       "      <td>0.278456</td>\n",
       "      <td>1</td>\n",
       "    </tr>\n",
       "  </tbody>\n",
       "</table>\n",
       "<p>226 rows × 7 columns</p>\n",
       "</div>"
      ],
      "text/plain": [
       "   Approx Chronicle Test Site SubCatchment    Feature  ImportanceValue  \\\n",
       "0       0         0         1            1  Elevation         0.280166   \n",
       "8       0         0         1            3  Elevation         0.280720   \n",
       "16      0         0         1            4  Elevation         0.275504   \n",
       "24      0         0         1            5  Elevation         0.280081   \n",
       "32      0         0         1            6  Elevation         0.278443   \n",
       "..    ...       ...       ...          ...        ...              ...   \n",
       "16      0         0        39            4  Elevation         0.278562   \n",
       "24      0         0        39            5  Elevation         0.278337   \n",
       "32      0         0        39            7  Elevation         0.278231   \n",
       "40      0         0        39            8  Elevation         0.278535   \n",
       "48      0         0        39            9  Elevation         0.278456   \n",
       "\n",
       "   ImportanceRank  \n",
       "0               1  \n",
       "8               1  \n",
       "16              1  \n",
       "24              1  \n",
       "32              1  \n",
       "..            ...  \n",
       "16              1  \n",
       "24              1  \n",
       "32              1  \n",
       "40              1  \n",
       "48              1  \n",
       "\n",
       "[226 rows x 7 columns]"
      ]
     },
     "execution_count": 8,
     "metadata": {},
     "output_type": "execute_result"
    }
   ],
   "source": [
    "df_feature"
   ]
  },
  {
   "cell_type": "code",
   "execution_count": 9,
   "metadata": {},
   "outputs": [
    {
     "data": {
      "text/plain": [
       "array([[<AxesSubplot:title={'center':'ImportanceValue'}>]], dtype=object)"
      ]
     },
     "execution_count": 9,
     "metadata": {},
     "output_type": "execute_result"
    },
    {
     "data": {
      "image/png": "[encoded data removed]",
      "text/plain": [
       "<Figure size 432x288 with 1 Axes>"
      ]
     },
     "metadata": {
      "needs_background": "light"
     },
     "output_type": "display_data"
    }
   ],
   "source": []
  },
  {
   "cell_type": "code",
   "execution_count": null,
   "metadata": {},
   "outputs": [],
   "source": []
  },
  {
   "cell_type": "code",
   "execution_count": 37,
   "metadata": {},
   "outputs": [
    {
     "data": {
      "image/png": "[encoded data removed]",
      "text/plain": [
       "<Figure size 432x288 with 1 Axes>"
      ]
     },
     "metadata": {
      "needs_background": "light"
     },
     "output_type": "display_data"
    }
   ],
   "source": [
    "d = df_feature.groupby('ImportanceRank').count()[\"Feature\"]\n",
    "ax = d.plot(kind='bar')\n",
    "for p in ax.patches:\n",
    "    ax.annotate(str(p.get_height()), (p.get_x() * 1.005, p.get_height() * 1.005))"
   ]
  },
  {
   "cell_type": "code",
   "execution_count": 18,
   "metadata": {},
   "outputs": [
    {
     "name": "stdout",
     "output_type": "stream",
     "text": [
      "0     1\n",
      "8     1\n",
      "16    1\n",
      "24    1\n",
      "32    1\n",
      "     ..\n",
      "16    1\n",
      "24    1\n",
      "32    1\n",
      "40    1\n",
      "48    1\n",
      "Name: ImportanceRank, Length: 226, dtype: object\n"
     ]
    }
   ],
   "source": [
    "print(df_feature[\"ImportanceRank\"])"
   ]
  },
  {
   "cell_type": "code",
   "execution_count": 19,
   "metadata": {},
   "outputs": [
    {
     "data": {
      "text/html": [
       "<div>\n",
       "<style scoped>\n",
       "    .dataframe tbody tr th:only-of-type {\n",
       "        vertical-align: middle;\n",
       "    }\n",
       "\n",
       "    .dataframe tbody tr th {\n",
       "        vertical-align: top;\n",
       "    }\n",
       "\n",
       "    .dataframe thead th {\n",
       "        text-align: right;\n",
       "    }\n",
       "</style>\n",
       "<table border=\"1\" class=\"dataframe\">\n",
       "  <thead>\n",
       "    <tr style=\"text-align: right;\">\n",
       "      <th></th>\n",
       "      <th>ImportanceValue</th>\n",
       "    </tr>\n",
       "  </thead>\n",
       "  <tbody>\n",
       "    <tr>\n",
       "      <th>count</th>\n",
       "      <td>226.000000</td>\n",
       "    </tr>\n",
       "    <tr>\n",
       "      <th>mean</th>\n",
       "      <td>0.279481</td>\n",
       "    </tr>\n",
       "    <tr>\n",
       "      <th>std</th>\n",
       "      <td>0.011596</td>\n",
       "    </tr>\n",
       "    <tr>\n",
       "      <th>min</th>\n",
       "      <td>0.145800</td>\n",
       "    </tr>\n",
       "    <tr>\n",
       "      <th>25%</th>\n",
       "      <td>0.278210</td>\n",
       "    </tr>\n",
       "    <tr>\n",
       "      <th>50%</th>\n",
       "      <td>0.279688</td>\n",
       "    </tr>\n",
       "    <tr>\n",
       "      <th>75%</th>\n",
       "      <td>0.281207</td>\n",
       "    </tr>\n",
       "    <tr>\n",
       "      <th>max</th>\n",
       "      <td>0.359579</td>\n",
       "    </tr>\n",
       "  </tbody>\n",
       "</table>\n",
       "</div>"
      ],
      "text/plain": [
       "       ImportanceValue\n",
       "count       226.000000\n",
       "mean          0.279481\n",
       "std           0.011596\n",
       "min           0.145800\n",
       "25%           0.278210\n",
       "50%           0.279688\n",
       "75%           0.281207\n",
       "max           0.359579"
      ]
     },
     "execution_count": 19,
     "metadata": {},
     "output_type": "execute_result"
    }
   ],
   "source": [
    "df_feature.describe()"
   ]
  },
  {
   "cell_type": "code",
   "execution_count": 33,
   "metadata": {},
   "outputs": [],
   "source": [
    "dt = df_feature.groupby('ImportanceRank').count()"
   ]
  },
  {
   "cell_type": "code",
   "execution_count": 43,
   "metadata": {},
   "outputs": [],
   "source": [
    "def concat_imp_for_all_sites_byRates(nb_clusters=1, approx=0, chronicle=0, permeability=27.32):\n",
    "    imp_features_df_all_sites = pd.DataFrame(columns=[\"Approx\",\n",
    "                \"Chronicle\",\n",
    "                \"Test Site\",\n",
    "                \"Rate\",\n",
    "                \"Feature\",\n",
    "                \"ImportanceValue\",\n",
    "                \"ImportanceRank\"])\n",
    "    \n",
    "    \n",
    "    for site_number in range(1,41):\n",
    "        for rate in [2, 7, 15, 21, 30, 45, 50, 60, 75, 90, 100, 150, 182, 200, 250, 300, 330, 350, 365, 550, 640, 730, 1000, 1500, 2000, 2250, 3000, 3182, 3652]:\n",
    "    \n",
    "            MYDIR = (\n",
    "            \"output\"\n",
    "            + \"/\"\n",
    "            + \"Approx\"\n",
    "            + str(approx)\n",
    "            + \"/Chronicle\"\n",
    "            + str(chronicle)\n",
    "            + \"/SiteTest\"\n",
    "            + str(site_number)\n",
    "            )\n",
    "            file = (\"Feature_Importance\"\n",
    "            + \"_Site\"\n",
    "            + str(site_number)\n",
    "            + \"_Rate\"\n",
    "            + str(rate)\n",
    "            +\"_Chronicle\"\n",
    "            + str(chronicle)\n",
    "            + \"_Approx\"\n",
    "            + str(approx)\n",
    "            + \"_K\"\n",
    "            + str(permeability)\n",
    "            + \"_Slope_Elevation_LC_SAR_Area_CV_HV\"\n",
    "            + \"Clusters\" + str(nb_clusters) + \"byRates\" +\".csv\")\n",
    "            try:\n",
    "                imp_for_a_site = pd.read_csv(MYDIR + \"/\" + file, sep=\";\")\n",
    "                imp_features_df_all_sites = pd.concat([imp_features_df_all_sites,imp_for_a_site])\n",
    "            except:\n",
    "                continue\n",
    "    out_file = (\"Feature_Importance\" + \"_All_Sites\"\n",
    "        + \"_All_Rates\"\n",
    "        +\"_Chronicle\"\n",
    "        + str(chronicle)\n",
    "        + \"_Approx\"\n",
    "        + str(approx)\n",
    "        + \"_K\"\n",
    "        + str(permeability)\n",
    "        + \"_Slope_Elevation_LC_SAR_Area_CV_HV\"\n",
    "        + \"Clusters\" + str(nb_clusters) + \"_byRates.csv\"\n",
    "    )\n",
    "    imp_features_df_all_sites.to_csv(\"output\" + \"/\" + out_file, sep=\";\", index=False)\n",
    "    print(\"Concatenation finished.\")\n",
    "    return imp_features_df_all_sites"
   ]
  },
  {
   "cell_type": "code",
   "execution_count": 61,
   "metadata": {},
   "outputs": [
    {
     "name": "stdout",
     "output_type": "stream",
     "text": [
      "Concatenation finished.\n",
      "   Approx Chronicle Test Site Rate Feature  ImportanceValue ImportanceRank\n",
      "0       0         0         1    2      HV         0.198031              1\n",
      "1       0         0         1    2   Slope         0.177181              2\n",
      "2       0         0         1    2      LC         0.164327              3\n",
      "3       0         0         1    2     SAR         0.156058              4\n",
      "4       0         0         1    2    Area         0.144638              5\n",
      "..    ...       ...       ...  ...     ...              ...            ...\n",
      "3       0         0        35   75     SAR         0.146325              4\n",
      "4       0         0        35   75      HV         0.118066              5\n",
      "5       0         0        35   75    Area         0.093014              6\n",
      "6       0         0        35   75      CV         0.079013              7\n",
      "7       0         0        35   75    Rate         0.000000              8\n",
      "\n",
      "[4392 rows x 7 columns]\n"
     ]
    }
   ],
   "source": [
    "imp_features_df_all_sites_byrates = concat_imp_for_all_sites_byRates()\n",
    "print(imp_features_df_all_sites_byrates)"
   ]
  },
  {
   "cell_type": "code",
   "execution_count": 62,
   "metadata": {},
   "outputs": [
    {
     "data": {
      "image/png": "[encoded data removed]",
      "text/plain": [
       "<Figure size 432x288 with 1 Axes>"
      ]
     },
     "metadata": {
      "needs_background": "light"
     },
     "output_type": "display_data"
    },
    {
     "data": {
      "image/png": "[encoded data removed]",
      "text/plain": [
       "<Figure size 432x288 with 1 Axes>"
      ]
     },
     "metadata": {
      "needs_background": "light"
     },
     "output_type": "display_data"
    },
    {
     "data": {
      "image/png": "[encoded data removed]",
      "text/plain": [
       "<Figure size 432x288 with 1 Axes>"
      ]
     },
     "metadata": {
      "needs_background": "light"
     },
     "output_type": "display_data"
    },
    {
     "data": {
      "image/png": "[encoded data removed]",
      "text/plain": [
       "<Figure size 432x288 with 1 Axes>"
      ]
     },
     "metadata": {
      "needs_background": "light"
     },
     "output_type": "display_data"
    },
    {
     "data": {
      "image/png": "[encoded data removed]",
      "text/plain": [
       "<Figure size 432x288 with 1 Axes>"
      ]
     },
     "metadata": {
      "needs_background": "light"
     },
     "output_type": "display_data"
    },
    {
     "data": {
      "image/png": "[encoded data removed]",
      "text/plain": [
       "<Figure size 432x288 with 1 Axes>"
      ]
     },
     "metadata": {
      "needs_background": "light"
     },
     "output_type": "display_data"
    },
    {
     "data": {
      "image/png": "[encoded data removed]",
      "text/plain": [
       "<Figure size 432x288 with 1 Axes>"
      ]
     },
     "metadata": {
      "needs_background": "light"
     },
     "output_type": "display_data"
    },
    {
     "data": {
      "image/png": "[encoded data removed]",
      "text/plain": [
       "<Figure size 432x288 with 1 Axes>"
      ]
     },
     "metadata": {
      "needs_background": "light"
     },
     "output_type": "display_data"
    }
   ],
   "source": [
    "for feature in [\"Elevation\", \"Slope\", \"Rate\", \"CV\", \"HV\", \"SAR\", \"Area\", \"LC\"]:\n",
    "    df_feature = imp_features_df_all_sites_byrates.loc[imp_features_df_all_sites_byrates[\"Feature\"] == feature]\n",
    "    df_feature.hist()\n",
    "    plt.savefig(\"output/\" + \"Histo_ImpValue_Feature_\" + str(feature) + \"_byRates.jpg\")\n",
    "    d = df_feature.groupby('ImportanceRank').count()[\"Feature\"]\n",
    "    ax = d.plot(kind='bar')\n",
    "    for p in ax.patches:\n",
    "        ax.annotate(str(p.get_height()), (p.get_x() * 1.005, p.get_height() * 1.005))\n",
    "    plt.savefig(\"output/\" + \"Histo_ImpRank_Feature_\" + str(feature) + \"_byRates.jpg\")"
   ]
  },
  {
   "cell_type": "markdown",
   "metadata": {},
   "source": [
    "## Summary"
   ]
  },
  {
   "cell_type": "markdown",
   "metadata": {},
   "source": [
    "By Subcatch"
   ]
  },
  {
   "cell_type": "markdown",
   "metadata": {},
   "source": [
    "1- Elevation\n",
    "2- Rate\n",
    "3- LC\n",
    "4- SAR\n",
    "5- Area\n",
    "6- Slope\n",
    "7- HV\n",
    "8- CV"
   ]
  },
  {
   "cell_type": "markdown",
   "metadata": {},
   "source": [
    "1- Elevation\n",
    "2- Rate\n",
    "3- LC\n",
    "4- SAR\n",
    "5- Area\n",
    "6- Slope\n",
    "7- HV"
   ]
  },
  {
   "cell_type": "markdown",
   "metadata": {},
   "source": [
    "By Rates"
   ]
  },
  {
   "cell_type": "markdown",
   "metadata": {},
   "source": [
    "1- LC\n",
    "2- Elevation\n",
    "3- Slope\n",
    "4- SAR\n",
    "5- HV\n",
    "6- Area\n",
    "7- CV\n",
    "8- Rate"
   ]
  },
  {
   "cell_type": "code",
   "execution_count": null,
   "metadata": {},
   "outputs": [],
   "source": []
  }
 ],
 "metadata": {
  "kernelspec": {
   "display_name": "Python 3",
   "language": "python",
   "name": "python3"
  },
  "language_info": {
   "codemirror_mode": {
    "name": "ipython",
    "version": 3
   },
   "file_extension": ".py",
   "mimetype": "text/x-python",
   "name": "python",
   "nbconvert_exporter": "python",
   "pygments_lexer": "ipython3",
   "version": "3.9.1"
  }
 },
 "nbformat": 4,
 "nbformat_minor": 4
}
